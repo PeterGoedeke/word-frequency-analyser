{
 "metadata": {
  "language_info": {
   "codemirror_mode": {
    "name": "ipython",
    "version": 3
   },
   "file_extension": ".py",
   "mimetype": "text/x-python",
   "name": "python",
   "nbconvert_exporter": "python",
   "pygments_lexer": "ipython3",
   "version": "3.8.5"
  },
  "orig_nbformat": 2,
  "kernelspec": {
   "name": "python3",
   "display_name": "Python 3",
   "language": "python"
  }
 },
 "nbformat": 4,
 "nbformat_minor": 2,
 "cells": [
  {
   "source": [
    "### Resource processing\n",
    "This section deals with turning German resources into a spreadsheet which can be translated."
   ],
   "cell_type": "markdown",
   "metadata": {}
  },
  {
   "cell_type": "code",
   "execution_count": 1,
   "metadata": {},
   "outputs": [],
   "source": [
    "import spacy\n",
    "nlp = spacy.load('de_core_news_sm', exclude=[\"ner\", \"parser\", \"textcat\", \"tagger\"])\n",
    "nlp.max_length = 10000000"
   ]
  },
  {
   "cell_type": "code",
   "execution_count": 2,
   "metadata": {},
   "outputs": [],
   "source": [
    "import epub\n",
    "from epub import epub2text\n",
    "from collections import Counter, defaultdict\n",
    "from functions import GermanLanguage, Word, Translation, partition_warnings, WarningLevel\n",
    "from functools import reduce"
   ]
  },
  {
   "cell_type": "code",
   "execution_count": 3,
   "metadata": {},
   "outputs": [],
   "source": [
    "de = GermanLanguage()"
   ]
  },
  {
   "cell_type": "code",
   "execution_count": 4,
   "metadata": {},
   "outputs": [],
   "source": [
    "resource_dir = '/home/peter/Documents/github/word-frequency-analyser/books'\n",
    "books = os.listdir(resource_dir)\n",
    "\n",
    "resources = [] # type: List[str]\n",
    "for i, book in enumerate(books):\n",
    "    try:\n",
    "        resource_fragments = epub.epub2text(f'{resource_dir}/{book}')\n",
    "        resource = '\\n'.join(resource_fragments)\n",
    "        resources.append(resource)\n",
    "    except KeyError:\n",
    "        pass\n",
    "\n",
    "docs = [nlp(resource) for resource in resources]"
   ]
  },
  {
   "cell_type": "code",
   "execution_count": 12,
   "metadata": {
    "tags": []
   },
   "outputs": [
    {
     "output_type": "execute_result",
     "data": {
      "text/plain": [
       "1152400"
      ]
     },
     "metadata": {},
     "execution_count": 12
    }
   ],
   "source": [
    "len('\\n'.join(resources).split())"
   ]
  },
  {
   "cell_type": "code",
   "execution_count": 5,
   "metadata": {},
   "outputs": [],
   "source": [
    "def simplify_pos(pos: str) -> str:\n",
    "    return pos if pos == 'NOUN' or pos == 'VERB' else 'OTHER'"
   ]
  },
  {
   "cell_type": "code",
   "execution_count": 6,
   "metadata": {},
   "outputs": [],
   "source": [
    "counters = [Counter((token.lemma_, simplify_pos(token.pos_)) for token in doc if token.is_alpha and not token.is_stop) for doc in docs]\n",
    "counts = reduce(lambda a, c: a.update(c) or a, counters)\n",
    "\n",
    "words = [\n",
    "    Word(de, c[0], c[1], counts[c])\n",
    "        for c in counts\n",
    "            if de.is_valid_word(c[0], c[1])\n",
    "]"
   ]
  },
  {
   "cell_type": "code",
   "execution_count": 7,
   "metadata": {
    "tags": [
     "outputPrepend"
    ]
   },
   "outputs": [
    {
     "output_type": "stream",
     "name": "stdout",
     "text": [
      "r Unterricht\", \"de\", \"en\")\t193\ndas stillen\t=GOOGLETRANSLATE(\"das stillen\", \"de\", \"en\")\t193\nder Kessel\t=GOOGLETRANSLATE(\"der Kessel\", \"de\", \"en\")\t193\ndeutlich\t=GOOGLETRANSLATE(\"deutlich\", \"de\", \"en\")\t195\nkurz\t=GOOGLETRANSLATE(\"kurz\", \"de\", \"en\")\t195\nschlafen\t=GOOGLETRANSLATE(\"zu schlafen\", \"de\", \"en\")\t195\ngenauso\t=GOOGLETRANSLATE(\"genauso\", \"de\", \"en\")\t196\ndie Erinnerung\t=GOOGLETRANSLATE(\"die Erinnerung\", \"de\", \"en\")\t197\nschieben\t=GOOGLETRANSLATE(\"zu schieben\", \"de\", \"en\")\t197\nhinein\t=GOOGLETRANSLATE(\"hinein\", \"de\", \"en\")\t197\ndie Reihe\t=GOOGLETRANSLATE(\"die Reihe\", \"de\", \"en\")\t198\nder Sohn\t=GOOGLETRANSLATE(\"der Sohn\", \"de\", \"en\")\t199\nschließen\t=GOOGLETRANSLATE(\"zu schließen\", \"de\", \"en\")\t200\ndas Bild\t=GOOGLETRANSLATE(\"das Bild\", \"de\", \"en\")\t201\nruhig\t=GOOGLETRANSLATE(\"ruhig\", \"de\", \"en\")\t201\nständig\t=GOOGLETRANSLATE(\"ständig\", \"de\", \"en\")\t201\nmeist\t=GOOGLETRANSLATE(\"meist\", \"de\", \"en\")\t202\njung\t=GOOGLETRANSLATE(\"jung\", \"de\", \"en\")\t203\nlernen\t=GOOGLETRANSLATE(\"zu lernen\", \"de\", \"en\")\t203\nstark\t=GOOGLETRANSLATE(\"stark\", \"de\", \"en\")\t204\nnervös\t=GOOGLETRANSLATE(\"nervös\", \"de\", \"en\")\t205\nzurückkehren\t=GOOGLETRANSLATE(\"zu zurückkehren\", \"de\", \"en\")\t205\nder Sir\t=GOOGLETRANSLATE(\"der Sir\", \"de\", \"en\")\t205\ndie Nähe\t=GOOGLETRANSLATE(\"die Nähe\", \"de\", \"en\")\t206\nder Zug\t=GOOGLETRANSLATE(\"der Zug\", \"de\", \"en\")\t206\nder Gemeinschaftsraum\t=GOOGLETRANSLATE(\"der Gemeinschaftsraum\", \"de\", \"en\")\t206\ndie Sorge\t=GOOGLETRANSLATE(\"die Sorge\", \"de\", \"en\")\t208\nsinken\t=GOOGLETRANSLATE(\"zu sinken\", \"de\", \"en\")\t210\ndie Küche\t=GOOGLETRANSLATE(\"die Küche\", \"de\", \"en\")\t210\nSir\t=GOOGLETRANSLATE(\"Sir\", \"de\", \"en\")\t211\ndas Spiel\t=GOOGLETRANSLATE(\"das Spiel\", \"de\", \"en\")\t211\ntauchen\t=GOOGLETRANSLATE(\"zu tauchen\", \"de\", \"en\")\t213\nansehen\t=GOOGLETRANSLATE(\"zu ansehen\", \"de\", \"en\")\t213\nder Korridor\t=GOOGLETRANSLATE(\"der Korridor\", \"de\", \"en\")\t213\nder Brust\t=GOOGLETRANSLATE(\"der Brust\", \"de\", \"en\")\t215\nder Koffer\t=GOOGLETRANSLATE(\"der Koffer\", \"de\", \"en\")\t216\ndie Klasse\t=GOOGLETRANSLATE(\"die Klasse\", \"de\", \"en\")\t217\nleer\t=GOOGLETRANSLATE(\"leer\", \"de\", \"en\")\t218\nkriegen\t=GOOGLETRANSLATE(\"zu kriegen\", \"de\", \"en\")\t218\nder Wurmschwanz\t=GOOGLETRANSLATE(\"der Wurmschwanz\", \"de\", \"en\")\t218\nsogar\t=GOOGLETRANSLATE(\"sogar\", \"de\", \"en\")\t219\nder Hals\t=GOOGLETRANSLATE(\"der Hals\", \"de\", \"en\")\t221\nerheben\t=GOOGLETRANSLATE(\"zu erheben\", \"de\", \"en\")\t222\nfügen\t=GOOGLETRANSLATE(\"zu fügen\", \"de\", \"en\")\t223\nder Stein\t=GOOGLETRANSLATE(\"der Stein\", \"de\", \"en\")\t223\ndie Karte\t=GOOGLETRANSLATE(\"die Karte\", \"de\", \"en\")\t223\nvollkommen\t=GOOGLETRANSLATE(\"vollkommen\", \"de\", \"en\")\t224\nstrecken\t=GOOGLETRANSLATE(\"zu strecken\", \"de\", \"en\")\t224\nehe\t=GOOGLETRANSLATE(\"ehe\", \"de\", \"en\")\t225\ndie Decke\t=GOOGLETRANSLATE(\"die Decke\", \"de\", \"en\")\t225\nzucken\t=GOOGLETRANSLATE(\"zu zucken\", \"de\", \"en\")\t225\nhängen\t=GOOGLETRANSLATE(\"zu hängen\", \"de\", \"en\")\t225\nrot\t=GOOGLETRANSLATE(\"rot\", \"de\", \"en\")\t226\nder Schmerz\t=GOOGLETRANSLATE(\"der Schmerz\", \"de\", \"en\")\t226\nder Gang\t=GOOGLETRANSLATE(\"der Gang\", \"de\", \"en\")\t227\nauftauchen\t=GOOGLETRANSLATE(\"zu auftauchen\", \"de\", \"en\")\t228\nder Hut\t=GOOGLETRANSLATE(\"der Hut\", \"de\", \"en\")\t228\ngut\t=GOOGLETRANSLATE(\"gut\", \"de\", \"en\")\t230\ninzwischen\t=GOOGLETRANSLATE(\"inzwischen\", \"de\", \"en\")\t231\nschloss\t=GOOGLETRANSLATE(\"zu schloss\", \"de\", \"en\")\t231\ndie Ahnung\t=GOOGLETRANSLATE(\"die Ahnung\", \"de\", \"en\")\t232\nerfahren\t=GOOGLETRANSLATE(\"zu erfahren\", \"de\", \"en\")\t233\nder Herr\t=GOOGLETRANSLATE(\"der Herr\", \"de\", \"en\")\t233\nerreichen\t=GOOGLETRANSLATE(\"zu erreichen\", \"de\", \"en\")\t235\nder Augenblick\t=GOOGLETRANSLATE(\"der Augenblick\", \"de\", \"en\")\t236\nder Punkt\t=GOOGLETRANSLATE(\"der Punkt\", \"de\", \"en\")\t236\nschauen\t=GOOGLETRANSLATE(\"zu schauen\", \"de\", \"en\")\t237\nzornig\t=GOOGLETRANSLATE(\"zornig\", \"de\", \"en\")\t239\nder Muggel\t=GOOGLETRANSLATE(\"der Muggel\", \"de\", \"en\")\t240\nletzte\t=GOOGLETRANSLATE(\"letzte\", \"de\", \"en\")\t240\nwüten\t=GOOGLETRANSLATE(\"wüten\", \"de\", \"en\")\t240\nder Baum\t=GOOGLETRANSLATE(\"der Baum\", \"de\", \"en\")\t241\nnicken\t=GOOGLETRANSLATE(\"zu nicken\", \"de\", \"en\")\t241\nhinzu\t=GOOGLETRANSLATE(\"hinzu\", \"de\", \"en\")\t242\ndie Richtung\t=GOOGLETRANSLATE(\"die Richtung\", \"de\", \"en\")\t243\ndie Art\t=GOOGLETRANSLATE(\"die Art\", \"de\", \"en\")\t244\ndas Glück\t=GOOGLETRANSLATE(\"das Glück\", \"de\", \"en\")\t244\nbewegen\t=GOOGLETRANSLATE(\"zu bewegen\", \"de\", \"en\")\t245\ndirekt\t=GOOGLETRANSLATE(\"direkt\", \"de\", \"en\")\t245\nbeobachten\t=GOOGLETRANSLATE(\"zu beobachten\", \"de\", \"en\")\t246\nleben\t=GOOGLETRANSLATE(\"zu leben\", \"de\", \"en\")\t246\nschrecklich\t=GOOGLETRANSLATE(\"schrecklich\", \"de\", \"en\")\t247\ndie Kraft\t=GOOGLETRANSLATE(\"die Kraft\", \"de\", \"en\")\t248\ndie Ecke\t=GOOGLETRANSLATE(\"die Ecke\", \"de\", \"en\")\t249\nnennen\t=GOOGLETRANSLATE(\"zu nennen\", \"de\", \"en\")\t249\nspielen\t=GOOGLETRANSLATE(\"zu spielen\", \"de\", \"en\")\t250\nlächeln\t=GOOGLETRANSLATE(\"zu lächeln\", \"de\", \"en\")\t250\ndas Wasser\t=GOOGLETRANSLATE(\"das Wasser\", \"de\", \"en\")\t251\nder Körper\t=GOOGLETRANSLATE(\"der Körper\", \"de\", \"en\")\t251\ndie Dunkelheit\t=GOOGLETRANSLATE(\"die Dunkelheit\", \"de\", \"en\")\t251\nverstecken\t=GOOGLETRANSLATE(\"zu verstecken\", \"de\", \"en\")\t251\ndas Lächeln\t=GOOGLETRANSLATE(\"das Lächeln\", \"de\", \"en\")\t253\nscharf\t=GOOGLETRANSLATE(\"scharf\", \"de\", \"en\")\t253\nheftig\t=GOOGLETRANSLATE(\"heftig\", \"de\", \"en\")\t254\ndie Eltern\t=GOOGLETRANSLATE(\"die Eltern\", \"de\", \"en\")\t254\nschließlich\t=GOOGLETRANSLATE(\"schließlich\", \"de\", \"en\")\t258\nnähern\t=GOOGLETRANSLATE(\"nähern\", \"de\", \"en\")\t258\nstimmen\t=GOOGLETRANSLATE(\"zu stimmen\", \"de\", \"en\")\t259\nhoffen\t=GOOGLETRANSLATE(\"zu hoffen\", \"de\", \"en\")\t259\ndie Frau\t=GOOGLETRANSLATE(\"die Frau\", \"de\", \"en\")\t259\nder Himmel\t=GOOGLETRANSLATE(\"der Himmel\", \"de\", \"en\")\t261\ndrücken\t=GOOGLETRANSLATE(\"zu drücken\", \"de\", \"en\")\t262\ndas Stück\t=GOOGLETRANSLATE(\"das Stück\", \"de\", \"en\")\t262\ndie Familie\t=GOOGLETRANSLATE(\"die Familie\", \"de\", \"en\")\t264\nerscheinen\t=GOOGLETRANSLATE(\"zu erscheinen\", \"de\", \"en\")\t265\ngolden\t=GOOGLETRANSLATE(\"golden\", \"de\", \"en\")\t269\nder Wald\t=GOOGLETRANSLATE(\"der Wald\", \"de\", \"en\")\t272\nschön\t=GOOGLETRANSLATE(\"schön\", \"de\", \"en\")\t274\ndie Eule\t=GOOGLETRANSLATE(\"die Eule\", \"de\", \"en\")\t277\nmachen\t=GOOGLETRANSLATE(\"zu machen\", \"de\", \"en\")\t278\nentlang\t=GOOGLETRANSLATE(\"entlang\", \"de\", \"en\")\t278\ndas Herz\t=GOOGLETRANSLATE(\"das Herz\", \"de\", \"en\")\t278\ndas Dementoren\t=GOOGLETRANSLATE(\"das Dementoren\", \"de\", \"en\")\t279\nerwarten\t=GOOGLETRANSLATE(\"zu erwarten\", \"de\", \"en\")\t280\ndie Hexe\t=GOOGLETRANSLATE(\"die Hexe\", \"de\", \"en\")\t281\ndie Stelle\t=GOOGLETRANSLATE(\"die Stelle\", \"de\", \"en\")\t281\nheraus\t=GOOGLETRANSLATE(\"heraus\", \"de\", \"en\")\t281\nder Lehrer\t=GOOGLETRANSLATE(\"der Lehrer\", \"de\", \"en\")\t281\nder Fluch\t=GOOGLETRANSLATE(\"der Fluch\", \"de\", \"en\")\t282\ndie Narbe\t=GOOGLETRANSLATE(\"die Narbe\", \"de\", \"en\")\t282\nvöllig\t=GOOGLETRANSLATE(\"völlig\", \"de\", \"en\")\t283\ntot\t=GOOGLETRANSLATE(\"tot\", \"de\", \"en\")\t283\nmagisch\t=GOOGLETRANSLATE(\"magisch\", \"de\", \"en\")\t284\nder Zauber\t=GOOGLETRANSLATE(\"der Zauber\", \"de\", \"en\")\t284\nhoch\t=GOOGLETRANSLATE(\"hoch\", \"de\", \"en\")\t286\nobwohl\t=GOOGLETRANSLATE(\"obwohl\", \"de\", \"en\")\t286\nstürzen\t=GOOGLETRANSLATE(\"zu stürzen\", \"de\", \"en\")\t288\nmerkwürdig\t=GOOGLETRANSLATE(\"merkwürdig\", \"de\", \"en\")\t290\ndie Gestalt\t=GOOGLETRANSLATE(\"die Gestalt\", \"de\", \"en\")\t291\nder Tod\t=GOOGLETRANSLATE(\"der Tod\", \"de\", \"en\")\t291\nklingen\t=GOOGLETRANSLATE(\"zu klingen\", \"de\", \"en\")\t293\nunten\t=GOOGLETRANSLATE(\"unten\", \"de\", \"en\")\t294\nlaufen\t=GOOGLETRANSLATE(\"zu laufen\", \"de\", \"en\")\t294\ntatsächlich\t=GOOGLETRANSLATE(\"tatsächlich\", \"de\", \"en\")\t295\nhinaus\t=GOOGLETRANSLATE(\"hinaus\", \"de\", \"en\")\t295\nerkennen\t=GOOGLETRANSLATE(\"zu erkennen\", \"de\", \"en\")\t296\ndie Woche\t=GOOGLETRANSLATE(\"die Woche\", \"de\", \"en\")\t298\nvergessen\t=GOOGLETRANSLATE(\"zu vergessen\", \"de\", \"en\")\t298\nsein\t=GOOGLETRANSLATE(\"sein\", \"de\", \"en\")\t299\nführen\t=GOOGLETRANSLATE(\"zu führen\", \"de\", \"en\")\t301\ndraußen\t=GOOGLETRANSLATE(\"draußen\", \"de\", \"en\")\t301\nBill\t=GOOGLETRANSLATE(\"Bill\", \"de\", \"en\")\t301\ndie Geschichte\t=GOOGLETRANSLATE(\"die Geschichte\", \"de\", \"en\")\t304\nder Tarnumhang\t=GOOGLETRANSLATE(\"der Tarnumhang\", \"de\", \"en\")\t305\nder Rücken\t=GOOGLETRANSLATE(\"der Rücken\", \"de\", \"en\")\t306\ndas Mädchen\t=GOOGLETRANSLATE(\"das Mädchen\", \"de\", \"en\")\t306\nfühlen\t=GOOGLETRANSLATE(\"zu fühlen\", \"de\", \"en\")\t307\ndie Schlange\t=GOOGLETRANSLATE(\"die Schlange\", \"de\", \"en\")\t307\ndas Feuer\t=GOOGLETRANSLATE(\"das Feuer\", \"de\", \"en\")\t308\nrennen\t=GOOGLETRANSLATE(\"zu rennen\", \"de\", \"en\")\t308\ngroß\t=GOOGLETRANSLATE(\"groß\", \"de\", \"en\")\t311\nantworten\t=GOOGLETRANSLATE(\"zu antworten\", \"de\", \"en\")\t312\nall\t=GOOGLETRANSLATE(\"all\", \"de\", \"en\")\t313\nkönnen\t=GOOGLETRANSLATE(\"können\", \"de\", \"en\")\t315\nhab\t=GOOGLETRANSLATE(\"hab\", \"de\", \"en\")\t315\ndie Sekunde\t=GOOGLETRANSLATE(\"die Sekunde\", \"de\", \"en\")\t317\nschreiben\t=GOOGLETRANSLATE(\"zu schreiben\", \"de\", \"en\")\t318\ntöten\t=GOOGLETRANSLATE(\"zu töten\", \"de\", \"en\")\t319\nweg\t=GOOGLETRANSLATE(\"weg\", \"de\", \"en\")\t319\nder Stuhl\t=GOOGLETRANSLATE(\"der Stuhl\", \"de\", \"en\")\t320\nder Grund\t=GOOGLETRANSLATE(\"der Grund\", \"de\", \"en\")\t320\ngeschehen\t=GOOGLETRANSLATE(\"zu geschehen\", \"de\", \"en\")\t321\ntreffen\t=GOOGLETRANSLATE(\"zu treffen\", \"de\", \"en\")\t321\neinzig\t=GOOGLETRANSLATE(\"einzig\", \"de\", \"en\")\t321\ndie Nase\t=GOOGLETRANSLATE(\"die Nase\", \"de\", \"en\")\t322\nbrechen\t=GOOGLETRANSLATE(\"zu brechen\", \"de\", \"en\")\t322\ndeuten\t=GOOGLETRANSLATE(\"zu deuten\", \"de\", \"en\")\t324\nschütteln\t=GOOGLETRANSLATE(\"zu schütteln\", \"de\", \"en\")\t326\naussehen\t=GOOGLETRANSLATE(\"zu aussehen\", \"de\", \"en\")\t327\nholen\t=GOOGLETRANSLATE(\"zu holen\", \"de\", \"en\")\t328\nverlieren\t=GOOGLETRANSLATE(\"zu verlieren\", \"de\", \"en\")\t328\nspringen\t=GOOGLETRANSLATE(\"zu springen\", \"de\", \"en\")\t329\nbemerken\t=GOOGLETRANSLATE(\"zu bemerken\", \"de\", \"en\")\t331\nfort\t=GOOGLETRANSLATE(\"fort\", \"de\", \"en\")\t332\ndie Frage\t=GOOGLETRANSLATE(\"die Frage\", \"de\", \"en\")\t332\nder Mensch\t=GOOGLETRANSLATE(\"der Mensch\", \"de\", \"en\")\t333\ndas Ding\t=GOOGLETRANSLATE(\"das Ding\", \"de\", \"en\")\t334\nhalb\t=GOOGLETRANSLATE(\"halb\", \"de\", \"en\")\t335\nvorbei\t=GOOGLETRANSLATE(\"vorbei\", \"de\", \"en\")\t338\nder Lord\t=GOOGLETRANSLATE(\"der Lord\", \"de\", \"en\")\t339\ndie Treppe\t=GOOGLETRANSLATE(\"die Treppe\", \"de\", \"en\")\t340\nlachen\t=GOOGLETRANSLATE(\"zu lachen\", \"de\", \"en\")\t345\nsteigen\t=GOOGLETRANSLATE(\"zu steigen\", \"de\", \"en\")\t345\nsterben\t=GOOGLETRANSLATE(\"zu sterben\", \"de\", \"en\")\t350\ndie Tasche\t=GOOGLETRANSLATE(\"die Tasche\", \"de\", \"en\")\t351\nklaren\t=GOOGLETRANSLATE(\"klaren\", \"de\", \"en\")\t352\nkennen\t=GOOGLETRANSLATE(\"zu kennen\", \"de\", \"en\")\t353\nverlassen\t=GOOGLETRANSLATE(\"zu verlassen\", \"de\", \"en\")\t354\nder Finger\t=GOOGLETRANSLATE(\"der Finger\", \"de\", \"en\")\t360\nder Freund\t=GOOGLETRANSLATE(\"der Freund\", \"de\", \"en\")\t362\ndie Menge\t=GOOGLETRANSLATE(\"die Menge\", \"de\", \"en\")\t363\nbitte\t=GOOGLETRANSLATE(\"bitte\", \"de\", \"en\")\t364\nder Platz\t=GOOGLETRANSLATE(\"der Platz\", \"de\", \"en\")\t365\nhervor\t=GOOGLETRANSLATE(\"hervor\", \"de\", \"en\")\t365\nerinnern\t=GOOGLETRANSLATE(\"zu erinnern\", \"de\", \"en\")\t367\nlangsam\t=GOOGLETRANSLATE(\"langsam\", \"de\", \"en\")\t367\nder Brief\t=GOOGLETRANSLATE(\"der Brief\", \"de\", \"en\")\t368\nfangen\t=GOOGLETRANSLATE(\"zu fangen\", \"de\", \"en\")\t369\ndas Zimmer\t=GOOGLETRANSLATE(\"das Zimmer\", \"de\", \"en\")\t370\ndie Miene\t=GOOGLETRANSLATE(\"die Miene\", \"de\", \"en\")\t371\ndie Halle\t=GOOGLETRANSLATE(\"die Halle\", \"de\", \"en\")\t372\nhinunter\t=GOOGLETRANSLATE(\"hinunter\", \"de\", \"en\")\t373\npacken\t=GOOGLETRANSLATE(\"zu packen\", \"de\", \"en\")\t376\nsuchen\t=GOOGLETRANSLATE(\"zu suchen\", \"de\", \"en\")\t377\ndie Minute\t=GOOGLETRANSLATE(\"die Minute\", \"de\", \"en\")\t379\nder Mutter\t=GOOGLETRANSLATE(\"der Mutter\", \"de\", \"en\")\t379\ndas Gefühl\t=GOOGLETRANSLATE(\"das Gefühl\", \"de\", \"en\")\t380\nder Besen\t=GOOGLETRANSLATE(\"der Besen\", \"de\", \"en\")\t380\ndie Angst\t=GOOGLETRANSLATE(\"die Angst\", \"de\", \"en\")\t381\ndas Bein\t=GOOGLETRANSLATE(\"das Bein\", \"de\", \"en\")\t381\ndas Büro\t=GOOGLETRANSLATE(\"das Büro\", \"de\", \"en\")\t382\ndie Tante\t=GOOGLETRANSLATE(\"die Tante\", \"de\", \"en\")\t382\ndie Sache\t=GOOGLETRANSLATE(\"die Sache\", \"de\", \"en\")\t383\ndas Ohr\t=GOOGLETRANSLATE(\"das Ohr\", \"de\", \"en\")\t385\ndas Schloss\t=GOOGLETRANSLATE(\"das Schloss\", \"de\", \"en\")\t386\nerklären\t=GOOGLETRANSLATE(\"zu erklären\", \"de\", \"en\")\t389\nschnellen\t=GOOGLETRANSLATE(\"schnellen\", \"de\", \"en\")\t390\nlegen\t=GOOGLETRANSLATE(\"zu legen\", \"de\", \"en\")\t390\nder Abend\t=GOOGLETRANSLATE(\"der Abend\", \"de\", \"en\")\t395\nstoßen\t=GOOGLETRANSLATE(\"zu stoßen\", \"de\", \"en\")\t395\nbrauchen\t=GOOGLETRANSLATE(\"zu brauchen\", \"de\", \"en\")\t395\nhinüber\t=GOOGLETRANSLATE(\"hinüber\", \"de\", \"en\")\t397\nziemlich\t=GOOGLETRANSLATE(\"ziemlich\", \"de\", \"en\")\t398\nzeigen\t=GOOGLETRANSLATE(\"zu zeigen\", \"de\", \"en\")\t398\nwirken\t=GOOGLETRANSLATE(\"zu wirken\", \"de\", \"en\")\t401\ndie Schulter\t=GOOGLETRANSLATE(\"die Schulter\", \"de\", \"en\")\t402\nhelfen\t=GOOGLETRANSLATE(\"zu helfen\", \"de\", \"en\")\t404\nder Gedanke\t=GOOGLETRANSLATE(\"der Gedanke\", \"de\", \"en\")\t404\nlesen\t=GOOGLETRANSLATE(\"zu lesen\", \"de\", \"en\")\t410\ndas Leben\t=GOOGLETRANSLATE(\"das Leben\", \"de\", \"en\")\t413\nbevor\t=GOOGLETRANSLATE(\"bevor\", \"de\", \"en\")\t414\ndas Licht\t=GOOGLETRANSLATE(\"das Licht\", \"de\", \"en\")\t415\ndas Ministerium\t=GOOGLETRANSLATE(\"das Ministerium\", \"de\", \"en\")\t416\nder Schritt\t=GOOGLETRANSLATE(\"der Schritt\", \"de\", \"en\")\t419\nschaffen\t=GOOGLETRANSLATE(\"zu schaffen\", \"de\", \"en\")\t419\nschwarz\t=GOOGLETRANSLATE(\"schwarz\", \"de\", \"en\")\t420\nflüstern\t=GOOGLETRANSLATE(\"zu flüstern\", \"de\", \"en\")\t422\nsofort\t=GOOGLETRANSLATE(\"sofort\", \"de\", \"en\")\t423\nder Vater\t=GOOGLETRANSLATE(\"der Vater\", \"de\", \"en\")\t423\nschwer\t=GOOGLETRANSLATE(\"schwer\", \"de\", \"en\")\t428\nfliegen\t=GOOGLETRANSLATE(\"zu fliegen\", \"de\", \"en\")\t430\nstecken\t=GOOGLETRANSLATE(\"zu stecken\", \"de\", \"en\")\t432\ndie Stunde\t=GOOGLETRANSLATE(\"die Stunde\", \"de\", \"en\")\t432\nherum\t=GOOGLETRANSLATE(\"herum\", \"de\", \"en\")\t436\nmeinen\t=GOOGLETRANSLATE(\"zu meinen\", \"de\", \"en\")\t436\ndie Wand\t=GOOGLETRANSLATE(\"die Wand\", \"de\", \"en\")\t440\ndrehen\t=GOOGLETRANSLATE(\"zu drehen\", \"de\", \"en\")\t441\ntief\t=GOOGLETRANSLATE(\"tief\", \"de\", \"en\")\t441\nverstehen\t=GOOGLETRANSLATE(\"zu verstehen\", \"de\", \"en\")\t442\nder Todesser\t=GOOGLETRANSLATE(\"der Todesser\", \"de\", \"en\")\t445\nrichten\t=GOOGLETRANSLATE(\"zu richten\", \"de\", \"en\")\t445\nreden\t=GOOGLETRANSLATE(\"zu reden\", \"de\", \"en\")\t446\nstellen\t=GOOGLETRANSLATE(\"zu stellen\", \"de\", \"en\")\t448\nerwidern\t=GOOGLETRANSLATE(\"zu erwidern\", \"de\", \"en\")\t449\nbekommen\t=GOOGLETRANSLATE(\"zu bekommen\", \"de\", \"en\")\t450\npassieren\t=GOOGLETRANSLATE(\"zu passieren\", \"de\", \"en\")\t454\nmurmeln\t=GOOGLETRANSLATE(\"zu murmeln\", \"de\", \"en\")\t463\nfahren\t=GOOGLETRANSLATE(\"zu fahren\", \"de\", \"en\")\t466\nder Schüler\t=GOOGLETRANSLATE(\"der Schüler\", \"de\", \"en\")\t470\nOh\t=GOOGLETRANSLATE(\"Oh\", \"de\", \"en\")\t471\nerneut\t=GOOGLETRANSLATE(\"erneut\", \"de\", \"en\")\t472\nder Sirius\t=GOOGLETRANSLATE(\"der Sirius\", \"de\", \"en\")\t474\nfolgen\t=GOOGLETRANSLATE(\"zu folgen\", \"de\", \"en\")\t475\nfest\t=GOOGLETRANSLATE(\"fest\", \"de\", \"en\")\t476\nder Fuß\t=GOOGLETRANSLATE(\"der Fuß\", \"de\", \"en\")\t481\neigentlich\t=GOOGLETRANSLATE(\"eigentlich\", \"de\", \"en\")\t483\ndie Nacht\t=GOOGLETRANSLATE(\"die Nacht\", \"de\", \"en\")\t485\nwarten\t=GOOGLETRANSLATE(\"zu warten\", \"de\", \"en\")\t486\ngeben\t=GOOGLETRANSLATE(\"zu geben\", \"de\", \"en\")\t489\ntragen\t=GOOGLETRANSLATE(\"zu tragen\", \"de\", \"en\")\t490\nnächst\t=GOOGLETRANSLATE(\"nächst\", \"de\", \"en\")\t490\nöffnen\t=GOOGLETRANSLATE(\"zu öffnen\", \"de\", \"en\")\t494\nder Raum\t=GOOGLETRANSLATE(\"der Raum\", \"de\", \"en\")\t495\nder Name\t=GOOGLETRANSLATE(\"der Name\", \"de\", \"en\")\t497\nschreien\t=GOOGLETRANSLATE(\"zu schreien\", \"de\", \"en\")\t503\nspüren\t=GOOGLETRANSLATE(\"zu spüren\", \"de\", \"en\")\t504\nplötzlich\t=GOOGLETRANSLATE(\"plötzlich\", \"de\", \"en\")\t504\ndas Bett\t=GOOGLETRANSLATE(\"das Bett\", \"de\", \"en\")\t504\nerzählen\t=GOOGLETRANSLATE(\"zu erzählen\", \"de\", \"en\")\t505\nrasch\t=GOOGLETRANSLATE(\"rasch\", \"de\", \"en\")\t515\ndas Buch\t=GOOGLETRANSLATE(\"das Buch\", \"de\", \"en\")\t516\nvoll\t=GOOGLETRANSLATE(\"voll\", \"de\", \"en\")\t517\ndie Schule\t=GOOGLETRANSLATE(\"die Schule\", \"de\", \"en\")\t520\nmein\t=GOOGLETRANSLATE(\"mein\", \"de\", \"en\")\t528\ndas Fenster\t=GOOGLETRANSLATE(\"das Fenster\", \"de\", \"en\")\t532\nbeginnen\t=GOOGLETRANSLATE(\"zu beginnen\", \"de\", \"en\")\t541\ndas Haar\t=GOOGLETRANSLATE(\"das Haar\", \"de\", \"en\")\t544\nder Mund\t=GOOGLETRANSLATE(\"der Mund\", \"de\", \"en\")\t555\noffenbaren\t=GOOGLETRANSLATE(\"offenbaren\", \"de\", \"en\")\t556\nder Arm\t=GOOGLETRANSLATE(\"der Arm\", \"de\", \"en\")\t562\ndie Leute\t=GOOGLETRANSLATE(\"die Leute\", \"de\", \"en\")\t565\ngenau\t=GOOGLETRANSLATE(\"genau\", \"de\", \"en\")\t575\nnehmen\t=GOOGLETRANSLATE(\"zu nehmen\", \"de\", \"en\")\t575\ndunkel\t=GOOGLETRANSLATE(\"dunkel\", \"de\", \"en\")\t583\nschlagen\t=GOOGLETRANSLATE(\"zu schlagen\", \"de\", \"en\")\t583\nlang\t=GOOGLETRANSLATE(\"lang\", \"de\", \"en\")\t584\nder Junge\t=GOOGLETRANSLATE(\"der Junge\", \"de\", \"en\")\t584\nheben\t=GOOGLETRANSLATE(\"zu heben\", \"de\", \"en\")\t585\nfast\t=GOOGLETRANSLATE(\"fast\", \"de\", \"en\")\t586\nder Onkel\t=GOOGLETRANSLATE(\"der Onkel\", \"de\", \"en\")\t593\ngehen\t=GOOGLETRANSLATE(\"zu gehen\", \"de\", \"en\")\t601\ntreten\t=GOOGLETRANSLATE(\"zu treten\", \"de\", \"en\")\t608\nder Umhang\t=GOOGLETRANSLATE(\"der Umhang\", \"de\", \"en\")\t609\ntun\t=GOOGLETRANSLATE(\"zu tun\", \"de\", \"en\")\t614\nder Tisch\t=GOOGLETRANSLATE(\"der Tisch\", \"de\", \"en\")\t615\ndie Luft\t=GOOGLETRANSLATE(\"die Luft\", \"de\", \"en\")\t622\ndie Zauberer\t=GOOGLETRANSLATE(\"die Zauberer\", \"de\", \"en\")\t628\nbringen\t=GOOGLETRANSLATE(\"zu bringen\", \"de\", \"en\")\t630\nder Mann\t=GOOGLETRANSLATE(\"der Mann\", \"de\", \"en\")\t636\nverschwinden\t=GOOGLETRANSLATE(\"zu verschwinden\", \"de\", \"en\")\t637\nder Weg\t=GOOGLETRANSLATE(\"der Weg\", \"de\", \"en\")\t648\nSirius\t=GOOGLETRANSLATE(\"Sirius\", \"de\", \"en\")\t649\nsitzen\t=GOOGLETRANSLATE(\"zu sitzen\", \"de\", \"en\")\t651\nsetzen\t=GOOGLETRANSLATE(\"zu setzen\", \"de\", \"en\")\t656\nkommen\t=GOOGLETRANSLATE(\"zu kommen\", \"de\", \"en\")\t687\nder Moment\t=GOOGLETRANSLATE(\"der Moment\", \"de\", \"en\")\t691\nliegen\t=GOOGLETRANSLATE(\"zu liegen\", \"de\", \"en\")\t695\nalt\t=GOOGLETRANSLATE(\"alt\", \"de\", \"en\")\t699\ndie Seite\t=GOOGLETRANSLATE(\"die Seite\", \"de\", \"en\")\t700\ndas Wort\t=GOOGLETRANSLATE(\"das Wort\", \"de\", \"en\")\t700\nsprechen\t=GOOGLETRANSLATE(\"zu sprechen\", \"de\", \"en\")\t701\nwusste\t=GOOGLETRANSLATE(\"zu wusste\", \"de\", \"en\")\t707\nder Potter\t=GOOGLETRANSLATE(\"der Potter\", \"de\", \"en\")\t731\ndas Mal\t=GOOGLETRANSLATE(\"das Mal\", \"de\", \"en\")\t734\npaar\t=GOOGLETRANSLATE(\"paar\", \"de\", \"en\")\t752\nleise\t=GOOGLETRANSLATE(\"leise\", \"de\", \"en\")\t758\nstarren\t=GOOGLETRANSLATE(\"zu starren\", \"de\", \"en\")\t768\nGeorge\t=GOOGLETRANSLATE(\"George\", \"de\", \"en\")\t769\nlaut\t=GOOGLETRANSLATE(\"laut\", \"de\", \"en\")\t778\ndas Haus\t=GOOGLETRANSLATE(\"das Haus\", \"de\", \"en\")\t782\nwenden\t=GOOGLETRANSLATE(\"zu wenden\", \"de\", \"en\")\t784\nder Boden\t=GOOGLETRANSLATE(\"der Boden\", \"de\", \"en\")\t794\neinfach\t=GOOGLETRANSLATE(\"einfach\", \"de\", \"en\")\t803\nblicken\t=GOOGLETRANSLATE(\"zu blicken\", \"de\", \"en\")\t805\nfinden\t=GOOGLETRANSLATE(\"zu finden\", \"de\", \"en\")\t807\nbleiben\t=GOOGLETRANSLATE(\"zu bleiben\", \"de\", \"en\")\t866\nsichern\t=GOOGLETRANSLATE(\"sichern\", \"de\", \"en\")\t867\nfallen\t=GOOGLETRANSLATE(\"zu fallen\", \"de\", \"en\")\t884\nwerfen\t=GOOGLETRANSLATE(\"zu werfen\", \"de\", \"en\")\t950\nweiß\t=GOOGLETRANSLATE(\"zu weiß\", \"de\", \"en\")\t951\nversuchen\t=GOOGLETRANSLATE(\"zu versuchen\", \"de\", \"en\")\t981\nrufen\t=GOOGLETRANSLATE(\"zu rufen\", \"de\", \"en\")\t987\nder Voldemort\t=GOOGLETRANSLATE(\"der Voldemort\", \"de\", \"en\")\t1005\nwissen\t=GOOGLETRANSLATE(\"zu wissen\", \"de\", \"en\")\t1052\nglauben\t=GOOGLETRANSLATE(\"zu glauben\", \"de\", \"en\")\t1060\nhab\t=GOOGLETRANSLATE(\"zu hab\", \"de\", \"en\")\t1104\nziehen\t=GOOGLETRANSLATE(\"zu ziehen\", \"de\", \"en\")\t1114\ndie Tür\t=GOOGLETRANSLATE(\"die Tür\", \"de\", \"en\")\t1152\nsagen\t=GOOGLETRANSLATE(\"zu sagen\", \"de\", \"en\")\t1156\nscheinen\t=GOOGLETRANSLATE(\"zu scheinen\", \"de\", \"en\")\t1203\nhalten\t=GOOGLETRANSLATE(\"zu halten\", \"de\", \"en\")\t1214\ndenken\t=GOOGLETRANSLATE(\"zu denken\", \"de\", \"en\")\t1221\nMr\t=GOOGLETRANSLATE(\"Mr\", \"de\", \"en\")\t1278\nder Blick\t=GOOGLETRANSLATE(\"der Blick\", \"de\", \"en\")\t1291\nmal\t=GOOGLETRANSLATE(\"mal\", \"de\", \"en\")\t1355\nder Zauberstab\t=GOOGLETRANSLATE(\"der Zauberstab\", \"de\", \"en\")\t1481\nder Kopf\t=GOOGLETRANSLATE(\"der Kopf\", \"de\", \"en\")\t1533\ndie Stimme\t=GOOGLETRANSLATE(\"die Stimme\", \"de\", \"en\")\t1582\ndas Gesicht\t=GOOGLETRANSLATE(\"das Gesicht\", \"de\", \"en\")\t1620\nstehen\t=GOOGLETRANSLATE(\"zu stehen\", \"de\", \"en\")\t1802\nlassen\t=GOOGLETRANSLATE(\"zu lassen\", \"de\", \"en\")\t1807\ndas Auge\t=GOOGLETRANSLATE(\"das Auge\", \"de\", \"en\")\t1868\nder Hand\t=GOOGLETRANSLATE(\"der Hand\", \"de\", \"en\")\t1887\nfragen\t=GOOGLETRANSLATE(\"zu fragen\", \"de\", \"en\")\t1939\nhören\t=GOOGLETRANSLATE(\"zu hören\", \"de\", \"en\")\t2024\nder Professor\t=GOOGLETRANSLATE(\"der Professor\", \"de\", \"en\")\t2043\nsehen\t=GOOGLETRANSLATE(\"zu sehen\", \"de\", \"en\")\t2621\nHarry\t=GOOGLETRANSLATE(\"Harry\", \"de\", \"en\")\t17384\n"
     ]
    }
   ],
   "source": [
    "test = '\\n'.join([w.to_sheet() for w in sorted(words, key=lambda w: w.freq)])\n",
    "with open('done.txt', 'w') as f:\n",
    "    f.write(test)\n",
    "print(test)"
   ]
  },
  {
   "source": [
    "### Spreadsheet corrections.\n",
    "\n",
    "The resultant spreadsheet can have issues in it, so it's important to flag likely issues for manual overview."
   ],
   "cell_type": "markdown",
   "metadata": {}
  },
  {
   "cell_type": "code",
   "execution_count": 8,
   "metadata": {},
   "outputs": [],
   "source": [
    "with open('test.txt', 'r') as f:\n",
    "    translations = [Translation.from_sheet(line) for line in f.read().splitlines()]\n",
    "    by_warnings = partition_warnings(translations)"
   ]
  },
  {
   "cell_type": "code",
   "execution_count": 9,
   "metadata": {},
   "outputs": [
    {
     "output_type": "stream",
     "name": "stdout",
     "text": [
      "['lässet: to lässet', 'ists: to ists', 'satzten: to satzten', 'ausdermaßen: to ausdermaßen', 'gemachet: to gemachet', 'stund: to stund', 'ward: to ward', 'zumalen: to zumalen', 'derohalben: to derohalben', 'satzte: to satzte', 'oftermalen: to oftermalen', 'gesetzet: to gesetzet', 'genennet: to genennet', 'dörfte: to dörfte', 'dergestalten: to dergestalten', 'daselbsten: to daselbsten', 'sonsten: to sonsten', 'allwo: to allwo']\n"
     ]
    }
   ],
   "source": [
    "print([f'{t.source}: {t.dest}' for t in by_warnings[WarningLevel.FAILURE]])"
   ]
  }
 ]
}