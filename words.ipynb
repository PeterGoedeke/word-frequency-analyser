{
 "metadata": {
  "language_info": {
   "codemirror_mode": {
    "name": "ipython",
    "version": 3
   },
   "file_extension": ".py",
   "mimetype": "text/x-python",
   "name": "python",
   "nbconvert_exporter": "python",
   "pygments_lexer": "ipython3",
   "version": "3.8.5"
  },
  "orig_nbformat": 2,
  "kernelspec": {
   "name": "python3",
   "display_name": "Python 3",
   "language": "python"
  }
 },
 "nbformat": 4,
 "nbformat_minor": 2,
 "cells": [
  {
   "source": [
    "### Resource processing\n",
    "This section deals with turning German resources into a spreadsheet which can be translated."
   ],
   "cell_type": "markdown",
   "metadata": {}
  },
  {
   "cell_type": "code",
   "execution_count": 1,
   "metadata": {},
   "outputs": [],
   "source": [
    "import spacy\n",
    "nlp = spacy.load('de_core_news_sm', exclude=[\"ner\", \"parser\", \"textcat\", \"tagger\"])\n",
    "nlp.max_length = 10000000"
   ]
  },
  {
   "cell_type": "code",
   "execution_count": 33,
   "metadata": {},
   "outputs": [],
   "source": [
    "from importlib import reload\n",
    "import epub\n",
    "import re\n",
    "from epub import epub2text\n",
    "from collections import Counter, defaultdict\n",
    "import functions\n",
    "reload(functions)\n",
    "from functions import GermanLanguage, Word, Translation, partition_warnings, WarningLevel, token_to_word_tuple\n",
    "from functools import reduce"
   ]
  },
  {
   "cell_type": "code",
   "execution_count": 3,
   "metadata": {},
   "outputs": [],
   "source": [
    "de = GermanLanguage()"
   ]
  },
  {
   "cell_type": "code",
   "execution_count": 4,
   "metadata": {},
   "outputs": [],
   "source": [
    "resource_dir = '/home/peter/Documents/github/word-frequency-analyser/books'\n",
    "books = os.listdir(resource_dir)\n",
    "\n",
    "resources = [] # type: List[str]\n",
    "for i, book in enumerate(books):\n",
    "    try:\n",
    "        resource_fragments = epub.epub2text(f'{resource_dir}/{book}')\n",
    "        resource = '\\n'.join(resource_fragments)\n",
    "        resources.append(resource)\n",
    "    except KeyError:\n",
    "        pass"
   ]
  },
  {
   "cell_type": "code",
   "execution_count": 5,
   "metadata": {},
   "outputs": [],
   "source": [
    "docs = [nlp(resource) for resource in resources]"
   ]
  },
  {
   "cell_type": "code",
   "execution_count": 6,
   "metadata": {
    "tags": []
   },
   "outputs": [
    {
     "output_type": "execute_result",
     "data": {
      "text/plain": [
       "1152400"
      ]
     },
     "metadata": {},
     "execution_count": 6
    }
   ],
   "source": [
    "len('\\n'.join(resources).split())"
   ]
  },
  {
   "cell_type": "code",
   "execution_count": 7,
   "metadata": {},
   "outputs": [],
   "source": [
    "counters = [Counter(token_to_word_tuple(token) for token in doc if token.is_alpha and not token.is_stop) for doc in docs]\n",
    "counts = reduce(lambda a, c: a.update(c) or a, counters)\n",
    "\n",
    "words = [\n",
    "    Word(de, c[0], c[1], counts[c])\n",
    "        for c in counts\n",
    "            if de.is_valid_word(c[0], c[1])\n",
    "]"
   ]
  },
  {
   "cell_type": "code",
   "execution_count": 8,
   "metadata": {
    "tags": [
     "outputPrepend"
    ]
   },
   "outputs": [
    {
     "output_type": "stream",
     "name": "stdout",
     "text": [
      "\")\t1\tNOUN\ndreiunddreißig\t=GOOGLETRANSLATE(\"dreiunddreißig\", \"de\", \"en\")\t1\tOTHER\ndie Todesdrohungen\t=GOOGLETRANSLATE(\"die Todesdrohungen\", \"de\", \"en\")\t1\tNOUN\nder Sklavenstand\t=GOOGLETRANSLATE(\"der Sklavenstand\", \"de\", \"en\")\t1\tNOUN\nfreikommen\t=GOOGLETRANSLATE(\"zu freikommen\", \"de\", \"en\")\t1\tVERB\nder Leuchtturm\t=GOOGLETRANSLATE(\"der Leuchtturm\", \"de\", \"en\")\t1\tNOUN\ndas Krankenzimmer\t=GOOGLETRANSLATE(\"das Krankenzimmer\", \"de\", \"en\")\t1\tNOUN\nbeschwörend\t=GOOGLETRANSLATE(\"beschwörend\", \"de\", \"en\")\t1\tOTHER\nglänzender\t=GOOGLETRANSLATE(\"glänzender\", \"de\", \"en\")\t1\tOTHER\ngekünstelt\t=GOOGLETRANSLATE(\"zu gekünstelt\", \"de\", \"en\")\t1\tVERB\ndie tragbar\t=GOOGLETRANSLATE(\"die tragbar\", \"de\", \"en\")\t1\tNOUN\nwasserdichte\t=GOOGLETRANSLATE(\"wasserdichte\", \"de\", \"en\")\t1\tOTHER\nabwechselnd\t=GOOGLETRANSLATE(\"abwechselnd\", \"de\", \"en\")\t1\tOTHER\ndas Utensil\t=GOOGLETRANSLATE(\"das Utensil\", \"de\", \"en\")\t1\tNOUN\ndie Dezemberwoche\t=GOOGLETRANSLATE(\"die Dezemberwoche\", \"de\", \"en\")\t1\tNOUN\nder Kracher\t=GOOGLETRANSLATE(\"der Kracher\", \"de\", \"en\")\t1\tNOUN\nknattern\t=GOOGLETRANSLATE(\"zu knattern\", \"de\", \"en\")\t1\tVERB\nder Luftballon\t=GOOGLETRANSLATE(\"der Luftballon\", \"de\", \"en\")\t1\tNOUN\nder Abschwelltrank\t=GOOGLETRANSLATE(\"der Abschwelltrank\", \"de\", \"en\")\t1\tNOUN\naufgebauscht\t=GOOGLETRANSLATE(\"aufgebauscht\", \"de\", \"en\")\t1\tOTHER\ndie Schwellung\t=GOOGLETRANSLATE(\"die Schwellung\", \"de\", \"en\")\t1\tNOUN\nder Duellunterricht\t=GOOGLETRANSLATE(\"der Duellunterricht\", \"de\", \"en\")\t1\tNOUN\nder Stoßseufzer\t=GOOGLETRANSLATE(\"der Stoßseufzer\", \"de\", \"en\")\t1\tNOUN\ndie Kampfstellung\t=GOOGLETRANSLATE(\"die Kampfstellung\", \"de\", \"en\")\t1\tNOUN\ndas Wellenhaar\t=GOOGLETRANSLATE(\"das Wellenhaar\", \"de\", \"en\")\t1\tNOUN\ndas Traumpaar\t=GOOGLETRANSLATE(\"das Traumpaar\", \"de\", \"en\")\t1\tNOUN\nvierschrötig\t=GOOGLETRANSLATE(\"vierschrötig\", \"de\", \"en\")\t1\tOTHER\nder Kitzelzauber\t=GOOGLETRANSLATE(\"der Kitzelzauber\", \"de\", \"en\")\t1\tNOUN\nunsportlich\t=GOOGLETRANSLATE(\"unsportlich\", \"de\", \"en\")\t1\tOTHER\nder Foxtrott\t=GOOGLETRANSLATE(\"der Foxtrott\", \"de\", \"en\")\t1\tNOUN\ndas Schlachtfeld\t=GOOGLETRANSLATE(\"das Schlachtfeld\", \"de\", \"en\")\t1\tNOUN\nder Schwitzkasten\t=GOOGLETRANSLATE(\"der Schwitzkasten\", \"de\", \"en\")\t1\tNOUN\nlagen\t=GOOGLETRANSLATE(\"lagen\", \"de\", \"en\")\t1\tOTHER\ndas Trümmerfeld\t=GOOGLETRANSLATE(\"das Trümmerfeld\", \"de\", \"en\")\t1\tNOUN\nder Freiwilliger\t=GOOGLETRANSLATE(\"der Freiwilliger\", \"de\", \"en\")\t1\tNOUN\nbringend\t=GOOGLETRANSLATE(\"bringend\", \"de\", \"en\")\t1\tOTHER\ndie Verheerung\t=GOOGLETRANSLATE(\"die Verheerung\", \"de\", \"en\")\t1\tNOUN\ndie Streichholzschachtel\t=GOOGLETRANSLATE(\"die Streichholzschachtel\", \"de\", \"en\")\t1\tNOUN\ndas Krankenquartier\t=GOOGLETRANSLATE(\"das Krankenquartier\", \"de\", \"en\")\t1\tNOUN\nder Schlängelbewegung\t=GOOGLETRANSLATE(\"der Schlängelbewegung\", \"de\", \"en\")\t1\tNOUN\nüberhitzen\t=GOOGLETRANSLATE(\"überhitzen\", \"de\", \"en\")\t1\tOTHER\nder Abwehrbewegung\t=GOOGLETRANSLATE(\"der Abwehrbewegung\", \"de\", \"en\")\t1\tNOUN\ndas Jahrtausend\t=GOOGLETRANSLATE(\"das Jahrtausend\", \"de\", \"en\")\t1\tNOUN\ndie Zaubererverwandtschaft\t=GOOGLETRANSLATE(\"die Zaubererverwandtschaft\", \"de\", \"en\")\t1\tNOUN\naufstacheln\t=GOOGLETRANSLATE(\"zu aufstacheln\", \"de\", \"en\")\t1\tVERB\nzusammenknüllen\t=GOOGLETRANSLATE(\"zusammenknüllen\", \"de\", \"en\")\t1\tOTHER\nvertrackte\t=GOOGLETRANSLATE(\"vertrackte\", \"de\", \"en\")\t1\tOTHER\nbetrauen\t=GOOGLETRANSLATE(\"zu betrauen\", \"de\", \"en\")\t1\tVERB\nausersehen\t=GOOGLETRANSLATE(\"zu ausersehen\", \"de\", \"en\")\t1\tVERB\nstarrköpfig\t=GOOGLETRANSLATE(\"starrköpfig\", \"de\", \"en\")\t1\tOTHER\nzurückverfolgen\t=GOOGLETRANSLATE(\"zu zurückverfolgen\", \"de\", \"en\")\t1\tVERB\ntadelnd\t=GOOGLETRANSLATE(\"tadelnd\", \"de\", \"en\")\t1\tOTHER\ndie Wollkapuze\t=GOOGLETRANSLATE(\"die Wollkapuze\", \"de\", \"en\")\t1\tNOUN\ndie breiten\t=GOOGLETRANSLATE(\"die breiten\", \"de\", \"en\")\t1\tNOUN\nder Bannkreis\t=GOOGLETRANSLATE(\"der Bannkreis\", \"de\", \"en\")\t1\tNOUN\nsterblicher\t=GOOGLETRANSLATE(\"sterblicher\", \"de\", \"en\")\t1\tOTHER\neuer\t=GOOGLETRANSLATE(\"euer\", \"de\", \"en\")\t1\tOTHER\ndas LEBEN\t=GOOGLETRANSLATE(\"das LEBEN\", \"de\", \"en\")\t1\tNOUN\nmeuchelst\t=GOOGLETRANSLATE(\"zu meuchelst\", \"de\", \"en\")\t1\tVERB\nder Fachbereich\t=GOOGLETRANSLATE(\"der Fachbereich\", \"de\", \"en\")\t1\tNOUN\nhinführen\t=GOOGLETRANSLATE(\"zu hinführen\", \"de\", \"en\")\t1\tVERB\ninteressant\t=GOOGLETRANSLATE(\"zu interessant\", \"de\", \"en\")\t1\tVERB\nherunternehmen\t=GOOGLETRANSLATE(\"zu herunternehmen\", \"de\", \"en\")\t1\tVERB\nder Fimmel\t=GOOGLETRANSLATE(\"der Fimmel\", \"de\", \"en\")\t1\tNOUN\ngewitzt\t=GOOGLETRANSLATE(\"zu gewitzt\", \"de\", \"en\")\t1\tVERB\naltersschwach\t=GOOGLETRANSLATE(\"altersschwach\", \"de\", \"en\")\t1\tOTHER\nsputen\t=GOOGLETRANSLATE(\"sputen\", \"de\", \"en\")\t1\tOTHER\nverschrumpeln\t=GOOGLETRANSLATE(\"zu verschrumpeln\", \"de\", \"en\")\t1\tVERB\nder Brandtag\t=GOOGLETRANSLATE(\"der Brandtag\", \"de\", \"en\")\t1\tNOUN\nfaszinierende\t=GOOGLETRANSLATE(\"faszinierende\", \"de\", \"en\")\t1\tOTHER\neigenartigerweise\t=GOOGLETRANSLATE(\"eigenartigerweise\", \"de\", \"en\")\t1\tOTHER\nzischelnd\t=GOOGLETRANSLATE(\"zischelnd\", \"de\", \"en\")\t1\tOTHER\ndie Knoblauchzehe\t=GOOGLETRANSLATE(\"die Knoblauchzehe\", \"de\", \"en\")\t1\tNOUN\ndas Gekasper\t=GOOGLETRANSLATE(\"das Gekasper\", \"de\", \"en\")\t1\tNOUN\nherausplatzt\t=GOOGLETRANSLATE(\"zu herausplatzt\", \"de\", \"en\")\t1\tVERB\nder Brustton\t=GOOGLETRANSLATE(\"der Brustton\", \"de\", \"en\")\t1\tNOUN\nhereinplatzte\t=GOOGLETRANSLATE(\"zu hereinplatzte\", \"de\", \"en\")\t1\tVERB\nschieben\t=GOOGLETRANSLATE(\"schieben\", \"de\", \"en\")\t1\tOTHER\nsprichst\t=GOOGLETRANSLATE(\"sprichst\", \"de\", \"en\")\t1\tOTHER\nder Zahnstocher\t=GOOGLETRANSLATE(\"der Zahnstocher\", \"de\", \"en\")\t1\tNOUN\nder Adlerfederkiel\t=GOOGLETRANSLATE(\"der Adlerfederkiel\", \"de\", \"en\")\t1\tNOUN\nder Pflaumenkuchen\t=GOOGLETRANSLATE(\"der Pflaumenkuchen\", \"de\", \"en\")\t1\tNOUN\ngezuckerter\t=GOOGLETRANSLATE(\"gezuckerter\", \"de\", \"en\")\t1\tOTHER\nder Eierpunsch\t=GOOGLETRANSLATE(\"der Eierpunsch\", \"de\", \"en\")\t1\tNOUN\nder Eierkopf\t=GOOGLETRANSLATE(\"der Eierkopf\", \"de\", \"en\")\t1\tNOUN\nder Nachschlag\t=GOOGLETRANSLATE(\"der Nachschlag\", \"de\", \"en\")\t1\tNOUN\ndas Schlafmittel\t=GOOGLETRANSLATE(\"das Schlafmittel\", \"de\", \"en\")\t1\tNOUN\ndie Duellierstunde\t=GOOGLETRANSLATE(\"die Duellierstunde\", \"de\", \"en\")\t1\tNOUN\ndie Operation\t=GOOGLETRANSLATE(\"die Operation\", \"de\", \"en\")\t1\tNOUN\nder Schokokuchen\t=GOOGLETRANSLATE(\"der Schokokuchen\", \"de\", \"en\")\t1\tNOUN\nsackten\t=GOOGLETRANSLATE(\"zu sackten\", \"de\", \"en\")\t1\tVERB\ndie Borste\t=GOOGLETRANSLATE(\"die Borste\", \"de\", \"en\")\t1\tNOUN\nder Dicker\t=GOOGLETRANSLATE(\"der Dicker\", \"de\", \"en\")\t1\tNOUN\nerregend\t=GOOGLETRANSLATE(\"zu erregend\", \"de\", \"en\")\t1\tVERB\nzerkocht\t=GOOGLETRANSLATE(\"zerkocht\", \"de\", \"en\")\t1\tOTHER\nverdickten\t=GOOGLETRANSLATE(\"zu verdickten\", \"de\", \"en\")\t1\tVERB\nder Bolzen\t=GOOGLETRANSLATE(\"der Bolzen\", \"de\", \"en\")\t1\tNOUN\nder Stoppelwuchs\t=GOOGLETRANSLATE(\"der Stoppelwuchs\", \"de\", \"en\")\t1\tNOUN\ndie Raspelstimme\t=GOOGLETRANSLATE(\"die Raspelstimme\", \"de\", \"en\")\t1\tNOUN\ndas Uhrband\t=GOOGLETRANSLATE(\"das Uhrband\", \"de\", \"en\")\t1\tNOUN\nschwing\t=GOOGLETRANSLATE(\"schwing\", \"de\", \"en\")\t1\tOTHER\ndas Nebenzimmer\t=GOOGLETRANSLATE(\"das Nebenzimmer\", \"de\", \"en\")\t1\tNOUN\ndie Zurzeit\t=GOOGLETRANSLATE(\"die Zurzeit\", \"de\", \"en\")\t1\tNOUN\nder Steinwand\t=GOOGLETRANSLATE(\"der Steinwand\", \"de\", \"en\")\t1\tNOUN\ndie Verzauberung\t=GOOGLETRANSLATE(\"die Verzauberung\", \"de\", \"en\")\t1\tNOUN\nder Beirat\t=GOOGLETRANSLATE(\"der Beirat\", \"de\", \"en\")\t1\tNOUN\nder Spuk\t=GOOGLETRANSLATE(\"der Spuk\", \"de\", \"en\")\t1\tNOUN\neingebildet\t=GOOGLETRANSLATE(\"eingebildet\", \"de\", \"en\")\t1\tOTHER\ndie Kabinentür\t=GOOGLETRANSLATE(\"die Kabinentür\", \"de\", \"en\")\t1\tNOUN\ndas Fellgesicht\t=GOOGLETRANSLATE(\"das Fellgesicht\", \"de\", \"en\")\t1\tNOUN\nersparen\t=GOOGLETRANSLATE(\"ersparen\", \"de\", \"en\")\t1\tOTHER\nder Schleimer\t=GOOGLETRANSLATE(\"der Schleimer\", \"de\", \"en\")\t1\tNOUN\ndie Rattenschwänze\t=GOOGLETRANSLATE(\"die Rattenschwänze\", \"de\", \"en\")\t1\tNOUN\nder Haarsträubetrank\t=GOOGLETRANSLATE(\"der Haarsträubetrank\", \"de\", \"en\")\t1\tNOUN\nmissachteten\t=GOOGLETRANSLATE(\"zu missachteten\", \"de\", \"en\")\t1\tVERB\ndie Wasserflut\t=GOOGLETRANSLATE(\"die Wasserflut\", \"de\", \"en\")\t1\tNOUN\ndie Wasserwelle\t=GOOGLETRANSLATE(\"die Wasserwelle\", \"de\", \"en\")\t1\tNOUN\ndurchfliegen\t=GOOGLETRANSLATE(\"zu durchfliegen\", \"de\", \"en\")\t1\tVERB\nplustern\t=GOOGLETRANSLATE(\"zu plustern\", \"de\", \"en\")\t1\tVERB\ndas Sonett\t=GOOGLETRANSLATE(\"das Sonett\", \"de\", \"en\")\t1\tNOUN\nausgebleichte\t=GOOGLETRANSLATE(\"ausgebleichte\", \"de\", \"en\")\t1\tOTHER\ndie Tintenschrift\t=GOOGLETRANSLATE(\"die Tintenschrift\", \"de\", \"en\")\t1\tNOUN\ndie Eintragung\t=GOOGLETRANSLATE(\"die Eintragung\", \"de\", \"en\")\t1\tNOUN\nder Zahnarzt\t=GOOGLETRANSLATE(\"der Zahnarzt\", \"de\", \"en\")\t1\tNOUN\nunbewegten\t=GOOGLETRANSLATE(\"unbewegten\", \"de\", \"en\")\t1\tOTHER\ntrommeln\t=GOOGLETRANSLATE(\"trommeln\", \"de\", \"en\")\t1\tOTHER\ngeniale\t=GOOGLETRANSLATE(\"geniale\", \"de\", \"en\")\t1\tOTHER\nder Radiergummi\t=GOOGLETRANSLATE(\"der Radiergummi\", \"de\", \"en\")\t1\tNOUN\nder Enthüller\t=GOOGLETRANSLATE(\"der Enthüller\", \"de\", \"en\")\t1\tNOUN\nrubbeln\t=GOOGLETRANSLATE(\"zu rubbeln\", \"de\", \"en\")\t1\tVERB\nnebst\t=GOOGLETRANSLATE(\"nebst\", \"de\", \"en\")\t1\tOTHER\ndie Meriten\t=GOOGLETRANSLATE(\"die Meriten\", \"de\", \"en\")\t1\tNOUN\nder Klassenbester\t=GOOGLETRANSLATE(\"der Klassenbester\", \"de\", \"en\")\t1\tNOUN\ndas Tänzchen\t=GOOGLETRANSLATE(\"das Tänzchen\", \"de\", \"en\")\t1\tNOUN\ntippen\t=GOOGLETRANSLATE(\"tippen\", \"de\", \"en\")\t1\tOTHER\npassend\t=GOOGLETRANSLATE(\"zu passend\", \"de\", \"en\")\t1\tVERB\nder Verzückungszauber\t=GOOGLETRANSLATE(\"der Verzückungszauber\", \"de\", \"en\")\t1\tNOUN\ndurchtriebene\t=GOOGLETRANSLATE(\"durchtriebene\", \"de\", \"en\")\t1\tOTHER\nüberbringen\t=GOOGLETRANSLATE(\"überbringen\", \"de\", \"en\")\t1\tOTHER\nder Gräuel\t=GOOGLETRANSLATE(\"der Gräuel\", \"de\", \"en\")\t1\tNOUN\nmusikalische\t=GOOGLETRANSLATE(\"musikalische\", \"de\", \"en\")\t1\tOTHER\nzupfen\t=GOOGLETRANSLATE(\"zupfen\", \"de\", \"en\")\t1\tOTHER\ndie Fieberhaft\t=GOOGLETRANSLATE(\"die Fieberhaft\", \"de\", \"en\")\t1\tNOUN\nmusikalisch\t=GOOGLETRANSLATE(\"musikalisch\", \"de\", \"en\")\t1\tOTHER\ndas Valentinslied\t=GOOGLETRANSLATE(\"das Valentinslied\", \"de\", \"en\")\t1\tNOUN\ndurchtränkt\t=GOOGLETRANSLATE(\"zu durchtränkt\", \"de\", \"en\")\t1\tVERB\neinzig\t=GOOGLETRANSLATE(\"zu einzig\", \"de\", \"en\")\t1\tVERB\nder Nachtschrank\t=GOOGLETRANSLATE(\"der Nachtschrank\", \"de\", \"en\")\t1\tNOUN\nschludrig\t=GOOGLETRANSLATE(\"schludrig\", \"de\", \"en\")\t1\tOTHER\neingeprägt\t=GOOGLETRANSLATE(\"eingeprägt\", \"de\", \"en\")\t1\tOTHER\nhereinholen\t=GOOGLETRANSLATE(\"zu hereinholen\", \"de\", \"en\")\t1\tVERB\nschwerhörig\t=GOOGLETRANSLATE(\"schwerhörig\", \"de\", \"en\")\t1\tOTHER\nmitfühlend\t=GOOGLETRANSLATE(\"mitfühlend\", \"de\", \"en\")\t1\tOTHER\nquelle\t=GOOGLETRANSLATE(\"quelle\", \"de\", \"en\")\t1\tOTHER\nkastanienbraunem\t=GOOGLETRANSLATE(\"kastanienbraunem\", \"de\", \"en\")\t1\tOTHER\ndreizehnjährige\t=GOOGLETRANSLATE(\"dreizehnjährige\", \"de\", \"en\")\t1\tOTHER\nausschweifend\t=GOOGLETRANSLATE(\"ausschweifend\", \"de\", \"en\")\t1\tOTHER\ndie Fächerliste\t=GOOGLETRANSLATE(\"die Fächerliste\", \"de\", \"en\")\t1\tNOUN\ndie Zaubererkarriere\t=GOOGLETRANSLATE(\"die Zaubererkarriere\", \"de\", \"en\")\t1\tNOUN\nbeileibe\t=GOOGLETRANSLATE(\"zu beileibe\", \"de\", \"en\")\t1\tVERB\ndie Aufzucht\t=GOOGLETRANSLATE(\"die Aufzucht\", \"de\", \"en\")\t1\tNOUN\nzerreißen\t=GOOGLETRANSLATE(\"zerreißen\", \"de\", \"en\")\t1\tOTHER\ndas Betttuch\t=GOOGLETRANSLATE(\"das Betttuch\", \"de\", \"en\")\t1\tNOUN\nfehlt\t=GOOGLETRANSLATE(\"zu fehlt\", \"de\", \"en\")\t1\tVERB\naufrühren\t=GOOGLETRANSLATE(\"zu aufrühren\", \"de\", \"en\")\t1\tVERB\ndie Sorgenliste\t=GOOGLETRANSLATE(\"die Sorgenliste\", \"de\", \"en\")\t1\tNOUN\ndie Kümmernis\t=GOOGLETRANSLATE(\"die Kümmernis\", \"de\", \"en\")\t1\tNOUN\nder Zweifelsfall\t=GOOGLETRANSLATE(\"der Zweifelsfall\", \"de\", \"en\")\t1\tNOUN\nder Aufwärmflug\t=GOOGLETRANSLATE(\"der Aufwärmflug\", \"de\", \"en\")\t1\tNOUN\ndas Kanariengelb\t=GOOGLETRANSLATE(\"das Kanariengelb\", \"de\", \"en\")\t1\tNOUN\ndie Buhrufe\t=GOOGLETRANSLATE(\"die Buhrufe\", \"de\", \"en\")\t1\tNOUN\ndie Sechstklässlerin\t=GOOGLETRANSLATE(\"die Sechstklässlerin\", \"de\", \"en\")\t1\tNOUN\nvollzählig\t=GOOGLETRANSLATE(\"vollzählig\", \"de\", \"en\")\t1\tOTHER\nkläffen\t=GOOGLETRANSLATE(\"kläffen\", \"de\", \"en\")\t1\tOTHER\nzerwühlt\t=GOOGLETRANSLATE(\"zerwühlt\", \"de\", \"en\")\t1\tOTHER\nverschrecken\t=GOOGLETRANSLATE(\"verschrecken\", \"de\", \"en\")\t1\tOTHER\nder Nadelstreifenanzug\t=GOOGLETRANSLATE(\"der Nadelstreifenanzug\", \"de\", \"en\")\t1\tNOUN\nschweißnasser\t=GOOGLETRANSLATE(\"schweißnasser\", \"de\", \"en\")\t1\tOTHER\nherumfummelnd\t=GOOGLETRANSLATE(\"herumfummelnd\", \"de\", \"en\")\t1\tOTHER\nherausfinden\t=GOOGLETRANSLATE(\"herausfinden\", \"de\", \"en\")\t1\tOTHER\ngekannt\t=GOOGLETRANSLATE(\"gekannt\", \"de\", \"en\")\t1\tOTHER\nder Doppelfenstern\t=GOOGLETRANSLATE(\"der Doppelfenstern\", \"de\", \"en\")\t1\tNOUN\nder Fortgang\t=GOOGLETRANSLATE(\"der Fortgang\", \"de\", \"en\")\t1\tNOUN\nder Rektor\t=GOOGLETRANSLATE(\"der Rektor\", \"de\", \"en\")\t1\tNOUN\ndas Gemüsefeld\t=GOOGLETRANSLATE(\"das Gemüsefeld\", \"de\", \"en\")\t1\tNOUN\nabessinischen\t=GOOGLETRANSLATE(\"abessinischen\", \"de\", \"en\")\t1\tOTHER\nverdorrter\t=GOOGLETRANSLATE(\"verdorrter\", \"de\", \"en\")\t1\tOTHER\nder Schrumpelfeigenbaum\t=GOOGLETRANSLATE(\"der Schrumpelfeigenbaum\", \"de\", \"en\")\t1\tNOUN\nabknicken\t=GOOGLETRANSLATE(\"zu abknicken\", \"de\", \"en\")\t1\tVERB\nflüchtenden\t=GOOGLETRANSLATE(\"flüchtenden\", \"de\", \"en\")\t1\tOTHER\nder Stammplatz\t=GOOGLETRANSLATE(\"der Stammplatz\", \"de\", \"en\")\t1\tNOUN\ndas Schlafsaaltüren\t=GOOGLETRANSLATE(\"das Schlafsaaltüren\", \"de\", \"en\")\t1\tNOUN\nmondbeschienene\t=GOOGLETRANSLATE(\"mondbeschienene\", \"de\", \"en\")\t1\tOTHER\nstockdunklen\t=GOOGLETRANSLATE(\"stockdunklen\", \"de\", \"en\")\t1\tOTHER\ndie Platane\t=GOOGLETRANSLATE(\"die Platane\", \"de\", \"en\")\t1\tNOUN\nrabenschwarz\t=GOOGLETRANSLATE(\"rabenschwarz\", \"de\", \"en\")\t1\tOTHER\ndie Baumstümpfe\t=GOOGLETRANSLATE(\"die Baumstümpfe\", \"de\", \"en\")\t1\tNOUN\nströmen\t=GOOGLETRANSLATE(\"strömen\", \"de\", \"en\")\t1\tOTHER\numschlungen\t=GOOGLETRANSLATE(\"zu umschlungen\", \"de\", \"en\")\t1\tVERB\ndie Kutschpferde\t=GOOGLETRANSLATE(\"die Kutschpferde\", \"de\", \"en\")\t1\tNOUN\nder Reisender\t=GOOGLETRANSLATE(\"der Reisender\", \"de\", \"en\")\t1\tNOUN\ndas Reden\t=GOOGLETRANSLATE(\"das Reden\", \"de\", \"en\")\t1\tNOUN\ndas Kuppelnetz\t=GOOGLETRANSLATE(\"das Kuppelnetz\", \"de\", \"en\")\t1\tNOUN\nhupen\t=GOOGLETRANSLATE(\"hupen\", \"de\", \"en\")\t1\tOTHER\ndas Schneiden\t=GOOGLETRANSLATE(\"das Schneiden\", \"de\", \"en\")\t1\tNOUN\ndas Freudengeheul\t=GOOGLETRANSLATE(\"das Freudengeheul\", \"de\", \"en\")\t1\tNOUN\nkneten\t=GOOGLETRANSLATE(\"zu kneten\", \"de\", \"en\")\t1\tVERB\nwiderlegen\t=GOOGLETRANSLATE(\"zu widerlegen\", \"de\", \"en\")\t1\tVERB\ngeschniegelt\t=GOOGLETRANSLATE(\"zu geschniegelt\", \"de\", \"en\")\t1\tVERB\nder Lockenwickler\t=GOOGLETRANSLATE(\"der Lockenwickler\", \"de\", \"en\")\t1\tNOUN\nstarres\t=GOOGLETRANSLATE(\"starres\", \"de\", \"en\")\t1\tOTHER\nzusammenballen\t=GOOGLETRANSLATE(\"zusammenballen\", \"de\", \"en\")\t1\tOTHER\nwunderliche\t=GOOGLETRANSLATE(\"wunderliche\", \"de\", \"en\")\t1\tOTHER\nder Erbfeind\t=GOOGLETRANSLATE(\"der Erbfeind\", \"de\", \"en\")\t1\tNOUN\nanknipsen\t=GOOGLETRANSLATE(\"zu anknipsen\", \"de\", \"en\")\t1\tVERB\ndie Überschwemmung\t=GOOGLETRANSLATE(\"die Überschwemmung\", \"de\", \"en\")\t1\tNOUN\ndie Rohrleitungen\t=GOOGLETRANSLATE(\"die Rohrleitungen\", \"de\", \"en\")\t1\tNOUN\nmaulende\t=GOOGLETRANSLATE(\"maulende\", \"de\", \"en\")\t1\tOTHER\ndie Pausenglocke\t=GOOGLETRANSLATE(\"die Pausenglocke\", \"de\", \"en\")\t1\tNOUN\nhunderten\t=GOOGLETRANSLATE(\"hunderten\", \"de\", \"en\")\t1\tOTHER\nder Schrankboden\t=GOOGLETRANSLATE(\"der Schrankboden\", \"de\", \"en\")\t1\tNOUN\nsagten\t=GOOGLETRANSLATE(\"zu sagten\", \"de\", \"en\")\t1\tVERB\nblutrot\t=GOOGLETRANSLATE(\"blutrot\", \"de\", \"en\")\t1\tOTHER\ndringender\t=GOOGLETRANSLATE(\"dringender\", \"de\", \"en\")\t1\tOTHER\ndie Stellenbeschreibung\t=GOOGLETRANSLATE(\"die Stellenbeschreibung\", \"de\", \"en\")\t1\tNOUN\narmenisch\t=GOOGLETRANSLATE(\"armenisch\", \"de\", \"en\")\t1\tOTHER\ndie Schinderei\t=GOOGLETRANSLATE(\"die Schinderei\", \"de\", \"en\")\t1\tNOUN\nschmeichelhafte\t=GOOGLETRANSLATE(\"schmeichelhafte\", \"de\", \"en\")\t1\tOTHER\nder Schabernack\t=GOOGLETRANSLATE(\"der Schabernack\", \"de\", \"en\")\t1\tNOUN\nkupfernen\t=GOOGLETRANSLATE(\"kupfernen\", \"de\", \"en\")\t1\tOTHER\ndie Parselsprache\t=GOOGLETRANSLATE(\"die Parselsprache\", \"de\", \"en\")\t1\tNOUN\naufstöhnen\t=GOOGLETRANSLATE(\"zu aufstöhnen\", \"de\", \"en\")\t1\tVERB\nunglaublich\t=GOOGLETRANSLATE(\"zu unglaublich\", \"de\", \"en\")\t1\tVERB\nder Rattenschädel\t=GOOGLETRANSLATE(\"der Rattenschädel\", \"de\", \"en\")\t1\tNOUN\nder Tunnelboden\t=GOOGLETRANSLATE(\"der Tunnelboden\", \"de\", \"en\")\t1\tNOUN\ndie Sprengkraft\t=GOOGLETRANSLATE(\"die Sprengkraft\", \"de\", \"en\")\t1\tNOUN\nder Felseinbruch\t=GOOGLETRANSLATE(\"der Felseinbruch\", \"de\", \"en\")\t1\tNOUN\ngewaltige\t=GOOGLETRANSLATE(\"gewaltige\", \"de\", \"en\")\t1\tOTHER\nausgetrocknet\t=GOOGLETRANSLATE(\"ausgetrocknet\", \"de\", \"en\")\t1\tOTHER\nöffnet\t=GOOGLETRANSLATE(\"zu öffnet\", \"de\", \"en\")\t1\tVERB\numranken\t=GOOGLETRANSLATE(\"zu umranken\", \"de\", \"en\")\t1\tVERB\ndas Säulenpaar\t=GOOGLETRANSLATE(\"das Säulenpaar\", \"de\", \"en\")\t1\tNOUN\naffenartige\t=GOOGLETRANSLATE(\"affenartige\", \"de\", \"en\")\t1\tOTHER\nder Kammerboden\t=GOOGLETRANSLATE(\"der Kammerboden\", \"de\", \"en\")\t1\tNOUN\nausbreiten\t=GOOGLETRANSLATE(\"ausbreiten\", \"de\", \"en\")\t1\tOTHER\ndringlicheres\t=GOOGLETRANSLATE(\"dringlicheres\", \"de\", \"en\")\t1\tOTHER\ndie Tagebucheinträge\t=GOOGLETRANSLATE(\"die Tagebucheinträge\", \"de\", \"en\")\t1\tNOUN\nallergrößten\t=GOOGLETRANSLATE(\"allergrößten\", \"de\", \"en\")\t1\tOTHER\nelternlos\t=GOOGLETRANSLATE(\"elternlos\", \"de\", \"en\")\t1\tOTHER\nstümperhaft\t=GOOGLETRANSLATE(\"zu stümperhaft\", \"de\", \"en\")\t1\tVERB\ngroßzuziehen\t=GOOGLETRANSLATE(\"zu großzuziehen\", \"de\", \"en\")\t1\tVERB\nder Alraunentrank\t=GOOGLETRANSLATE(\"der Alraunentrank\", \"de\", \"en\")\t1\tNOUN\nzerlumptes\t=GOOGLETRANSLATE(\"zerlumptes\", \"de\", \"en\")\t1\tOTHER\nwärmen\t=GOOGLETRANSLATE(\"wärmen\", \"de\", \"en\")\t1\tOTHER\nder Singvogel\t=GOOGLETRANSLATE(\"der Singvogel\", \"de\", \"en\")\t1\tNOUN\nmesse\t=GOOGLETRANSLATE(\"zu messe\", \"de\", \"en\")\t1\tVERB\nemporblickte\t=GOOGLETRANSLATE(\"zu emporblickte\", \"de\", \"en\")\t1\tVERB\ngrößter\t=GOOGLETRANSLATE(\"größter\", \"de\", \"en\")\t1\tOTHER\nschmecken\t=GOOGLETRANSLATE(\"schmecken\", \"de\", \"en\")\t1\tOTHER\ndas Spucken\t=GOOGLETRANSLATE(\"das Spucken\", \"de\", \"en\")\t1\tNOUN\ngiftgrün\t=GOOGLETRANSLATE(\"giftgrün\", \"de\", \"en\")\t1\tOTHER\nder Eichenstamm\t=GOOGLETRANSLATE(\"der Eichenstamm\", \"de\", \"en\")\t1\tNOUN\nstumpfer\t=GOOGLETRANSLATE(\"stumpfer\", \"de\", \"en\")\t1\tOTHER\nkugligen\t=GOOGLETRANSLATE(\"kugligen\", \"de\", \"en\")\t1\tOTHER\ngeblendet\t=GOOGLETRANSLATE(\"geblendet\", \"de\", \"en\")\t1\tOTHER\ngespalten\t=GOOGLETRANSLATE(\"gespalten\", \"de\", \"en\")\t1\tOTHER\ndas Gaumendach\t=GOOGLETRANSLATE(\"das Gaumendach\", \"de\", \"en\")\t1\tNOUN\nwarmes\t=GOOGLETRANSLATE(\"warmes\", \"de\", \"en\")\t1\tOTHER\ndurchnässte\t=GOOGLETRANSLATE(\"durchnässte\", \"de\", \"en\")\t1\tOTHER\nder Schlangenzahn\t=GOOGLETRANSLATE(\"der Schlangenzahn\", \"de\", \"en\")\t1\tNOUN\ndie Dicke\t=GOOGLETRANSLATE(\"die Dicke\", \"de\", \"en\")\t1\tNOUN\nder Scharlach\t=GOOGLETRANSLATE(\"der Scharlach\", \"de\", \"en\")\t1\tNOUN\nder Basiliskzahn\t=GOOGLETRANSLATE(\"der Basiliskzahn\", \"de\", \"en\")\t1\tNOUN\nj\t=GOOGLETRANSLATE(\"j\", \"de\", \"en\")\t1\tOTHER\ndie Mündung\t=GOOGLETRANSLATE(\"die Mündung\", \"de\", \"en\")\t1\tNOUN\nkomischer\t=GOOGLETRANSLATE(\"komischer\", \"de\", \"en\")\t1\tOTHER\ndurchatmen\t=GOOGLETRANSLATE(\"zu durchatmen\", \"de\", \"en\")\t1\tVERB\nder Kundschafter\t=GOOGLETRANSLATE(\"der Kundschafter\", \"de\", \"en\")\t1\tNOUN\nverdächtiger\t=GOOGLETRANSLATE(\"verdächtiger\", \"de\", \"en\")\t1\tOTHER\nder Alraunensaft\t=GOOGLETRANSLATE(\"der Alraunensaft\", \"de\", \"en\")\t1\tNOUN\nausschweigen\t=GOOGLETRANSLATE(\"zu ausschweigen\", \"de\", \"en\")\t1\tVERB\nsieden\t=GOOGLETRANSLATE(\"sieden\", \"de\", \"en\")\t1\tOTHER\naufgespießt\t=GOOGLETRANSLATE(\"zu aufgespießt\", \"de\", \"en\")\t1\tVERB\nunauslöschlicher\t=GOOGLETRANSLATE(\"unauslöschlicher\", \"de\", \"en\")\t1\tOTHER\ndie Findigkeit\t=GOOGLETRANSLATE(\"die Findigkeit\", \"de\", \"en\")\t1\tNOUN\nder Rocksaum\t=GOOGLETRANSLATE(\"der Rocksaum\", \"de\", \"en\")\t1\tNOUN\nder Hagelsturm\t=GOOGLETRANSLATE(\"der Hagelsturm\", \"de\", \"en\")\t1\tNOUN\nmittel\t=GOOGLETRANSLATE(\"mittel\", \"de\", \"en\")\t1\tOTHER\nausgefuchster\t=GOOGLETRANSLATE(\"ausgefuchster\", \"de\", \"en\")\t1\tOTHER\ngelüsten\t=GOOGLETRANSLATE(\"zu gelüsten\", \"de\", \"en\")\t1\tVERB\nunschätzbares\t=GOOGLETRANSLATE(\"unschätzbares\", \"de\", \"en\")\t1\tOTHER\ndie Feste\t=GOOGLETRANSLATE(\"die Feste\", \"de\", \"en\")\t1\tNOUN\nder Puddingteller\t=GOOGLETRANSLATE(\"der Puddingteller\", \"de\", \"en\")\t1\tNOUN\nverstimmen\t=GOOGLETRANSLATE(\"verstimmen\", \"de\", \"en\")\t1\tOTHER\nder Schulrat\t=GOOGLETRANSLATE(\"der Schulrat\", \"de\", \"en\")\t1\tNOUN\nder Schlossherr\t=GOOGLETRANSLATE(\"der Schlossherr\", \"de\", \"en\")\t1\tNOUN\nweidlich\t=GOOGLETRANSLATE(\"weidlich\", \"de\", \"en\")\t1\tOTHER\nfiele\t=GOOGLETRANSLATE(\"zu fiele\", \"de\", \"en\")\t1\tVERB\nvorverlegen\t=GOOGLETRANSLATE(\"zu vorverlegen\", \"de\", \"en\")\t1\tVERB\nwiehern\t=GOOGLETRANSLATE(\"wiehern\", \"de\", \"en\")\t1\tOTHER\ndie Telefonnummer\t=GOOGLETRANSLATE(\"die Telefonnummer\", \"de\", \"en\")\t1\tNOUN\nruft\t=GOOGLETRANSLATE(\"zu ruft\", \"de\", \"en\")\t1\tVERB\nanbei\t=GOOGLETRANSLATE(\"anbei\", \"de\", \"en\")\t1\tOTHER\n"
     ]
    }
   ],
   "source": [
    "test = '\\n'.join([w.to_sheet() for w in sorted(words, key=lambda w: w.freq, reverse=True)])\n",
    "with open('done.txt', 'w') as f:\n",
    "    f.write(test)\n",
    "print(test)"
   ]
  },
  {
   "source": [
    "### Spreadsheet corrections.\n",
    "\n",
    "The resultant spreadsheet can have issues in it, so it's important to flag likely issues for manual overview."
   ],
   "cell_type": "markdown",
   "metadata": {}
  },
  {
   "cell_type": "code",
   "execution_count": 49,
   "metadata": {
    "tags": []
   },
   "outputs": [],
   "source": [
    "with open('test.txt', 'r') as f:\n",
    "    translations = [Translation.from_sheet(line) for line in f.read().splitlines()]\n",
    "    by_warnings = partition_warnings(translations)"
   ]
  },
  {
   "cell_type": "code",
   "execution_count": 62,
   "metadata": {
    "tags": []
   },
   "outputs": [
    {
     "output_type": "stream",
     "name": "stdout",
     "text": [
      "der Potter: the Potter\noh: Oh\nhab: hab\nder Lord: the Lord\ngolden: golden\no: O\nwild: wild\nder Black: the Black\nans: ans\nnormal: normal\nder Dementor: the Dementor\ndie Bank: the Bank\nwarm: warm\nblond: blond\nbitter: bitter\nprompt: prompt\ndie Mum: the Mum\nder Durmstrang: the Durmstrang\nokay: to okay\ns: s\nder Prophet: the Prophet\ndas Champion: the Champion\nbring: to bring\nmach: mach\ntu: tu\nder Borgin: the Borgin\nblind: blind\nabrupt: abrupt\nmild: mild\nder Schlenker: the Schlenker\ndas Expelliarmus: the Expelliarmus\nstieben: to stieben\ndie Bellatrix: the Bellatrix\ncool: cool\ndas Deluminator: the Deluminator\nder September: the September\nwehend: wehend\ndoppeln: doppeln\nder Lump: the Lump\nelegant: elegant\ndie Lestrange: the Lestrange\nanscheinen: anscheinen\nm: m\ntotal: total\ndas Horn: the Horn\ndie Lockhart: the Lockhart\nfair: fair\nder August: the August\nr: r\nb: b\npack: pack\ndas Atrium: the Atrium\nred: red\ngolden: to golden\nder Doge: the Doge\neinhandeln: to einhandeln\nhol: hol\nabbekommen: to abbekommen\nhau: hau\nd: d\nbring: bring\ndas Alastor: the Alastor\nlynch: lynch\ndie Glubschaugen: the Glubschaugen\narrogant: arrogant\nschnäuzen: to schnäuzen\norange: orange\nabkriegen: to abkriegen\neh: eh\ndas Omen: the Omen\nfahrig: fahrig\nder Met: the Met\njust: just\nder Bowtruckle: the Bowtruckle\nder Schopf: the Schopf\nder Lähmzauber: the Lähmzauber\nran: ran\ndas Viktor: the Viktor\nder Stuss: the Stuss\nder Hufflepuff: the Hufflepuff\ndie Aach: the Aach\ndie Sphinx: the Sphinx\ndie Habseligkeit: the Habseligkeit\nder Knallkopf: the Knallkopf\niss: iss\nhallo: to hallo\nentschwebte: to entschwebte\naufbrummen: to aufbrummen\nn: n\ndas Cottage: the Cottage\nwag: wag\ndefensive: defensive\nc: c\nillegal: illegal\nunfair: unfair\nde: de\ndie Rage: the Rage\nsteinalt: steinalt\nder Stinksaft: the Stinksaft\nder November: the November\nreg: reg\nh: H\ngoss: goss\nder Bund: the Bund\noho: oho\ndie Lake: the Lake\nder Mumm: the Mumm\nideal: ideal\nder April: the April\ndigital: digital\ndas Edition: the Edition\nder Ent: the Ent\npartout: partout\ndas Pläuschchen: the Pläuschchen\ndie Tipps: the Tipps\nverlass: verlass\nfit: fit\ndie Tour: The Tour\nzornfunkelnd: zornfunkelnd\ndie Häme: the Häme\nred: to red\nw: w\nhunger: hunger\ne: e\nder Minimuff: the Minimuff\nau: au\ndie Tschau: the Tschau\nvorbeikommend: vorbeikommend\ndie Sloper: the Sloper\nbisherig: bisherig\nausschauen: to ausschauen\nschlackerte: to schlackerte\neinheimsen: to einheimsen\nabsurd: absurd\ngutgetan: to gutgetan\ntriste: triste\nleg: leg\ninternational: international\nloseisen: to loseisen\nzappelnd: zappelnd\ndie Pelle: the Pelle\nder Daddy: the Daddy\nextra: extra\nder Fort: the Fort\ngleißend: gleißend\ndas Fußgetrappel: the Fußgetrappel\nscheppernd: scheppernd\nalbert: albert\nder Zauberstabkunde: the Zauberstabkunde\nder Teddy: the Teddy\nder Travers: the Travers\nhinbekam: to hinbekam\nt: t\nder Wicht: the Wicht\nvierbeinig: vierbeinig\nmodern: modern\nwahnwitzig: wahnwitzig\ndie Schnute: the Schnute\nglimmend: glimmend\nprominent: prominent\nspring: to spring\nratternd: ratternd\nsträubend: sträubend\ndie Lee: the Lee\nder Hospital: the Hospital\numstehend: umstehend\ndie Menagerie: the Menagerie\ndie Schrumpelfeige: the Schrumpelfeige\nirrem: irrem\npriori: priori\nder Spring: the Spring\nder Incantatem: the Incantatem\ndie Rose: the Rose\nder Stromer: the Stromer\nroyal: royal\ndas Nicolas: the Nicolas\npotent: potent\nsonderliche: sonderliche\nder Gegaffe: the Gegaffe\nder Flederwichtfluch: the Flederwichtfluch\naufwallend: aufwallend\ndie Borage: the Borage\nder Sud: the Sud\ni: i\nder Arithmantikaufsatz: the Arithmantikaufsatz\ngeraum: geraum\nvollspritzen: to vollspritzen\ndie Pirouette: the Pirouette\nbare: bare\nfix: fix\nputzmunter: putzmunter\nder Cadwallader: the Cadwallader\nder Teewärmer: the Teewärmer\ndie Posteule: the Posteule\ndamalig: damalig\ndas Mark: the Mark\ngrobschlächtig: grobschlächtig\nder Filius: the Filius\nrennend: rennend\nder Dementorenangriff: the Dementorenangriff\nder Ratzeputz: the Ratzeputz\nder Locomotor: the Locomotor\nkribbelnd: kribbelnd\nv: v\nnobel: Nobel\nvehement: vehement\nheranzog: to heranzog\nklimpernd: klimpernd\nzornentbrannt: to zornentbrannt\nder Streif: the Streif\nder Sermon: the Sermon\ndie Quiekstimme: the Quiekstimme\nhalblang: halblang\nandres: andres\ndie Kirke: the Kirke\nfriss: friss\npack: to pack\nscharrend: scharrend\ndas Garottengas: the Garottengas\nder Fes: the Fes\nder Ern: the Ern\nadieu: Adieu\nellenlang: ellenlang\nbespannen: bespannen\ndas R: the R\ndas Adieu: the Adieu\ndas Phantom: the Phantom\nder Spulenwurzeltee: the Spulenwurzeltee\nder Ausmacher: the Ausmacher\ndie Pier: the Pier\nmucksmäuschenstill: mucksmäuschenstill\nder Sekundant: the Sekundant\nder Salazar: the Salazar\n"
     ]
    }
   ],
   "source": [
    "print('\\n'.join([f'{t.source}: {t.dest}' for t in by_warnings[functions.WarningLevel.FAILURE]]))"
   ]
  },
  {
   "cell_type": "code",
   "execution_count": 73,
   "metadata": {
    "tags": []
   },
   "outputs": [
    {
     "output_type": "stream",
     "name": "stdout",
     "text": [
      " Er reichte die Würstchen Harry, der so hungrig war, dass es ihm vorkam, als hätte er noch nie etwas Wundervolleres gekostet, doch immer noch konnte er den Blick nicht von dem Riesen abwenden\n"
     ]
    },
    {
     "output_type": "execute_result",
     "data": {
      "text/plain": [
       "True"
      ]
     },
     "metadata": {},
     "execution_count": 73
    }
   ],
   "source": [
    "# sentences = resources[0].split('\\n')\n",
    "test = re.sub('–', '', re.sub('[«»]', '\"', resources[5]))\n",
    "sentences = re.split('[\\n.]', test)\n",
    "chosen = [s.strip() for s in sentences if 5 < len(s) < 100 and '\"' not in s]\n",
    "\n",
    "print((s for s in sentences if 'wenden' in s).__next__())\n",
    "'Harry' in resources[5]\n",
    "# print(resources[5][:10000])"
   ]
  }
 ]
}