{
 "metadata": {
  "language_info": {
   "codemirror_mode": {
    "name": "ipython",
    "version": 3
   },
   "file_extension": ".py",
   "mimetype": "text/x-python",
   "name": "python",
   "nbconvert_exporter": "python",
   "pygments_lexer": "ipython3",
   "version": "3.8.5"
  },
  "orig_nbformat": 2,
  "kernelspec": {
   "name": "python3",
   "display_name": "Python 3",
   "language": "python"
  }
 },
 "nbformat": 4,
 "nbformat_minor": 2,
 "cells": [
  {
   "source": [
    "### Resource processing\n",
    "This section deals with turning German resources into a spreadsheet which can be translated."
   ],
   "cell_type": "markdown",
   "metadata": {}
  },
  {
   "cell_type": "code",
   "execution_count": 1,
   "metadata": {},
   "outputs": [],
   "source": [
    "import spacy\n",
    "nlp = spacy.load('de_core_news_sm')"
   ]
  },
  {
   "cell_type": "code",
   "execution_count": 2,
   "metadata": {},
   "outputs": [],
   "source": [
    "import epub\n",
    "from epub import epub2text\n",
    "from collections import Counter, defaultdict\n",
    "from functions import GermanLanguage, Word, Translation, partition_warnings, WarningLevel"
   ]
  },
  {
   "cell_type": "code",
   "execution_count": 3,
   "metadata": {},
   "outputs": [],
   "source": [
    "de = GermanLanguage()"
   ]
  },
  {
   "cell_type": "code",
   "execution_count": 4,
   "metadata": {},
   "outputs": [],
   "source": [
    "resource_dir = '/home/peter/Music/6000.German.e-book.Collection.epub'\n",
    "books = os.listdir(resource_dir)[5:6]\n",
    "\n",
    "resources = [] # type: List[str]\n",
    "for i, book in enumerate(books):\n",
    "    try:\n",
    "        resource_fragments = epub.epub2text(f'{resource_dir}/{book}')\n",
    "        resource = '\\n'.join(resource_fragments)\n",
    "        resources.append(resource)\n",
    "    except KeyError:\n",
    "        pass\n",
    "doc = nlp('\\n'.join(resources))"
   ]
  },
  {
   "cell_type": "code",
   "execution_count": 5,
   "metadata": {},
   "outputs": [],
   "source": [
    "def simplify_pos(pos: str) -> str:\n",
    "    return pos if pos == 'NOUN' or pos == 'VERB' else 'OTHER'"
   ]
  },
  {
   "cell_type": "code",
   "execution_count": 6,
   "metadata": {},
   "outputs": [],
   "source": [
    "counts = Counter(\n",
    "    (token.lemma_, simplify_pos(token.pos_))\n",
    "        for token in doc\n",
    "            if token.is_alpha and not token.is_stop and token.pos_ == 'VERB'\n",
    ")\n",
    "words = [\n",
    "    Word(de, c[0], c[1], counts[c])\n",
    "        for c in counts\n",
    "            if de.is_valid_word(c[0], c[1])\n",
    "]"
   ]
  },
  {
   "cell_type": "code",
   "execution_count": 7,
   "metadata": {
    "tags": [
     "outputPrepend"
    ]
   },
   "outputs": [
    {
     "output_type": "stream",
     "name": "stdout",
     "text": [
      "e\", \"en\")\t8\nübertreffen\t=GOOGLETRANSLATE(\"zu übertreffen\", \"de\", \"en\")\t8\nversuchen\t=GOOGLETRANSLATE(\"zu versuchen\", \"de\", \"en\")\t8\nzuschanden\t=GOOGLETRANSLATE(\"zu zuschanden\", \"de\", \"en\")\t8\nbetreffen\t=GOOGLETRANSLATE(\"zu betreffen\", \"de\", \"en\")\t8\nschick\t=GOOGLETRANSLATE(\"zu schick\", \"de\", \"en\")\t8\nwiderfahren\t=GOOGLETRANSLATE(\"zu widerfahren\", \"de\", \"en\")\t8\nbilden\t=GOOGLETRANSLATE(\"zu bilden\", \"de\", \"en\")\t8\nvorstellen\t=GOOGLETRANSLATE(\"zu vorstellen\", \"de\", \"en\")\t8\ngelachet\t=GOOGLETRANSLATE(\"zu gelachet\", \"de\", \"en\")\t8\nzerbrechen\t=GOOGLETRANSLATE(\"zu zerbrechen\", \"de\", \"en\")\t8\nzusprechen\t=GOOGLETRANSLATE(\"zu zusprechen\", \"de\", \"en\")\t8\nerbarmen\t=GOOGLETRANSLATE(\"zu erbarmen\", \"de\", \"en\")\t8\naufziehen\t=GOOGLETRANSLATE(\"zu aufziehen\", \"de\", \"en\")\t8\naufhängen\t=GOOGLETRANSLATE(\"zu aufhängen\", \"de\", \"en\")\t8\nbefleißen\t=GOOGLETRANSLATE(\"zu befleißen\", \"de\", \"en\")\t8\nfassen\t=GOOGLETRANSLATE(\"zu fassen\", \"de\", \"en\")\t8\nwerden\t=GOOGLETRANSLATE(\"zu werden\", \"de\", \"en\")\t8\nverzeihen\t=GOOGLETRANSLATE(\"zu verzeihen\", \"de\", \"en\")\t8\nweise\t=GOOGLETRANSLATE(\"zu weise\", \"de\", \"en\")\t8\nbegriffen\t=GOOGLETRANSLATE(\"zu begriffen\", \"de\", \"en\")\t9\nbehaften\t=GOOGLETRANSLATE(\"zu behaften\", \"de\", \"en\")\t9\nnächst\t=GOOGLETRANSLATE(\"zu nächst\", \"de\", \"en\")\t9\nüberwinden\t=GOOGLETRANSLATE(\"zu überwinden\", \"de\", \"en\")\t9\nbefunden\t=GOOGLETRANSLATE(\"zu befunden\", \"de\", \"en\")\t9\nwischen\t=GOOGLETRANSLATE(\"zu wischen\", \"de\", \"en\")\t9\nstackte\t=GOOGLETRANSLATE(\"zu stackte\", \"de\", \"en\")\t9\nausziehen\t=GOOGLETRANSLATE(\"zu ausziehen\", \"de\", \"en\")\t9\nzustoßen\t=GOOGLETRANSLATE(\"zu zustoßen\", \"de\", \"en\")\t9\nanzünden\t=GOOGLETRANSLATE(\"zu anzünden\", \"de\", \"en\")\t9\nvorkommen\t=GOOGLETRANSLATE(\"zu vorkommen\", \"de\", \"en\")\t9\ngucken\t=GOOGLETRANSLATE(\"zu gucken\", \"de\", \"en\")\t9\nbereden\t=GOOGLETRANSLATE(\"zu bereden\", \"de\", \"en\")\t9\nergreifen\t=GOOGLETRANSLATE(\"zu ergreifen\", \"de\", \"en\")\t9\nklopfen\t=GOOGLETRANSLATE(\"zu klopfen\", \"de\", \"en\")\t9\nladen\t=GOOGLETRANSLATE(\"zu laden\", \"de\", \"en\")\t9\nkosten\t=GOOGLETRANSLATE(\"zu kosten\", \"de\", \"en\")\t9\naufsetzen\t=GOOGLETRANSLATE(\"zu aufsetzen\", \"de\", \"en\")\t9\nerzählete\t=GOOGLETRANSLATE(\"zu erzählete\", \"de\", \"en\")\t9\ndörfen\t=GOOGLETRANSLATE(\"zu dörfen\", \"de\", \"en\")\t9\nvernehmen\t=GOOGLETRANSLATE(\"zu vernehmen\", \"de\", \"en\")\t9\nbedanken\t=GOOGLETRANSLATE(\"zu bedanken\", \"de\", \"en\")\t9\nreisen\t=GOOGLETRANSLATE(\"zu reisen\", \"de\", \"en\")\t9\nhoffen\t=GOOGLETRANSLATE(\"zu hoffen\", \"de\", \"en\")\t9\neinladen\t=GOOGLETRANSLATE(\"zu einladen\", \"de\", \"en\")\t9\nverdienen\t=GOOGLETRANSLATE(\"zu verdienen\", \"de\", \"en\")\t9\nvertreiben\t=GOOGLETRANSLATE(\"zu vertreiben\", \"de\", \"en\")\t9\nvergehen\t=GOOGLETRANSLATE(\"zu vergehen\", \"de\", \"en\")\t9\nzweifeln\t=GOOGLETRANSLATE(\"zu zweifeln\", \"de\", \"en\")\t9\nstrafen\t=GOOGLETRANSLATE(\"zu strafen\", \"de\", \"en\")\t9\nablaufen\t=GOOGLETRANSLATE(\"zu ablaufen\", \"de\", \"en\")\t9\ndünken\t=GOOGLETRANSLATE(\"zu dünken\", \"de\", \"en\")\t9\nkaufen\t=GOOGLETRANSLATE(\"zu kaufen\", \"de\", \"en\")\t9\nsiehet\t=GOOGLETRANSLATE(\"zu siehet\", \"de\", \"en\")\t10\nunterrichten\t=GOOGLETRANSLATE(\"zu unterrichten\", \"de\", \"en\")\t10\nerblicken\t=GOOGLETRANSLATE(\"zu erblicken\", \"de\", \"en\")\t10\ngebären\t=GOOGLETRANSLATE(\"zu gebären\", \"de\", \"en\")\t10\nangreifen\t=GOOGLETRANSLATE(\"zu angreifen\", \"de\", \"en\")\t10\nbelieben\t=GOOGLETRANSLATE(\"zu belieben\", \"de\", \"en\")\t10\npeinigen\t=GOOGLETRANSLATE(\"zu peinigen\", \"de\", \"en\")\t10\nerwachen\t=GOOGLETRANSLATE(\"zu erwachen\", \"de\", \"en\")\t10\nvermitteln\t=GOOGLETRANSLATE(\"zu vermitteln\", \"de\", \"en\")\t10\nausstehen\t=GOOGLETRANSLATE(\"zu ausstehen\", \"de\", \"en\")\t10\nbraten\t=GOOGLETRANSLATE(\"zu braten\", \"de\", \"en\")\t10\nbedienen\t=GOOGLETRANSLATE(\"zu bedienen\", \"de\", \"en\")\t10\naussehen\t=GOOGLETRANSLATE(\"zu aussehen\", \"de\", \"en\")\t10\nschweigen\t=GOOGLETRANSLATE(\"zu schweigen\", \"de\", \"en\")\t10\nscheinen\t=GOOGLETRANSLATE(\"zu scheinen\", \"de\", \"en\")\t10\nbestellen\t=GOOGLETRANSLATE(\"zu bestellen\", \"de\", \"en\")\t10\nvorbringen\t=GOOGLETRANSLATE(\"zu vorbringen\", \"de\", \"en\")\t10\nfürchten\t=GOOGLETRANSLATE(\"zu fürchten\", \"de\", \"en\")\t10\nlehren\t=GOOGLETRANSLATE(\"zu lehren\", \"de\", \"en\")\t10\nritten\t=GOOGLETRANSLATE(\"zu ritten\", \"de\", \"en\")\t10\nherkommen\t=GOOGLETRANSLATE(\"zu herkommen\", \"de\", \"en\")\t10\ngeforchten\t=GOOGLETRANSLATE(\"zu geforchten\", \"de\", \"en\")\t10\nspielen\t=GOOGLETRANSLATE(\"zu spielen\", \"de\", \"en\")\t10\nstellete\t=GOOGLETRANSLATE(\"zu stellete\", \"de\", \"en\")\t10\ningleichen\t=GOOGLETRANSLATE(\"zu ingleichen\", \"de\", \"en\")\t10\ngeschätzet\t=GOOGLETRANSLATE(\"zu geschätzet\", \"de\", \"en\")\t10\nbegraben\t=GOOGLETRANSLATE(\"zu begraben\", \"de\", \"en\")\t10\nbeschaffen\t=GOOGLETRANSLATE(\"zu beschaffen\", \"de\", \"en\")\t10\naussprechen\t=GOOGLETRANSLATE(\"zu aussprechen\", \"de\", \"en\")\t11\nfolgen\t=GOOGLETRANSLATE(\"zu folgen\", \"de\", \"en\")\t11\ngreifen\t=GOOGLETRANSLATE(\"zu greifen\", \"de\", \"en\")\t11\nverschwinden\t=GOOGLETRANSLATE(\"zu verschwinden\", \"de\", \"en\")\t11\nverhindern\t=GOOGLETRANSLATE(\"zu verhindern\", \"de\", \"en\")\t11\nverbieten\t=GOOGLETRANSLATE(\"zu verbieten\", \"de\", \"en\")\t11\nforchte\t=GOOGLETRANSLATE(\"zu forchte\", \"de\", \"en\")\t11\nkleiden\t=GOOGLETRANSLATE(\"zu kleiden\", \"de\", \"en\")\t11\nseufzete\t=GOOGLETRANSLATE(\"zu seufzete\", \"de\", \"en\")\t11\nunterfangen\t=GOOGLETRANSLATE(\"zu unterfangen\", \"de\", \"en\")\t11\nanstellen\t=GOOGLETRANSLATE(\"zu anstellen\", \"de\", \"en\")\t11\nstellen\t=GOOGLETRANSLATE(\"zu stellen\", \"de\", \"en\")\t11\nrufen\t=GOOGLETRANSLATE(\"zu rufen\", \"de\", \"en\")\t11\nderjenige\t=GOOGLETRANSLATE(\"zu derjenige\", \"de\", \"en\")\t11\nweinete\t=GOOGLETRANSLATE(\"zu weinete\", \"de\", \"en\")\t11\nspendieren\t=GOOGLETRANSLATE(\"zu spendieren\", \"de\", \"en\")\t11\ndavonlaufen\t=GOOGLETRANSLATE(\"zu davonlaufen\", \"de\", \"en\")\t11\nabschneiden\t=GOOGLETRANSLATE(\"zu abschneiden\", \"de\", \"en\")\t11\nklagen\t=GOOGLETRANSLATE(\"zu klagen\", \"de\", \"en\")\t11\nbetrüben\t=GOOGLETRANSLATE(\"zu betrüben\", \"de\", \"en\")\t11\nverdrießen\t=GOOGLETRANSLATE(\"zu verdrießen\", \"de\", \"en\")\t11\nbesuchen\t=GOOGLETRANSLATE(\"zu besuchen\", \"de\", \"en\")\t11\nbessern\t=GOOGLETRANSLATE(\"zu bessern\", \"de\", \"en\")\t11\nanrichten\t=GOOGLETRANSLATE(\"zu anrichten\", \"de\", \"en\")\t11\nhandeln\t=GOOGLETRANSLATE(\"zu handeln\", \"de\", \"en\")\t12\nfliehen\t=GOOGLETRANSLATE(\"zu fliehen\", \"de\", \"en\")\t12\nmangeln\t=GOOGLETRANSLATE(\"zu mangeln\", \"de\", \"en\")\t12\ngeschicket\t=GOOGLETRANSLATE(\"zu geschicket\", \"de\", \"en\")\t12\nachten\t=GOOGLETRANSLATE(\"zu achten\", \"de\", \"en\")\t12\nbesitzen\t=GOOGLETRANSLATE(\"zu besitzen\", \"de\", \"en\")\t12\nrechtschaffen\t=GOOGLETRANSLATE(\"zu rechtschaffen\", \"de\", \"en\")\t12\nversehen\t=GOOGLETRANSLATE(\"zu versehen\", \"de\", \"en\")\t12\ngedünkt\t=GOOGLETRANSLATE(\"zu gedünkt\", \"de\", \"en\")\t12\nbewegen\t=GOOGLETRANSLATE(\"zu bewegen\", \"de\", \"en\")\t12\ndavontragen\t=GOOGLETRANSLATE(\"zu davontragen\", \"de\", \"en\")\t12\nschätzen\t=GOOGLETRANSLATE(\"zu schätzen\", \"de\", \"en\")\t12\ngestecket\t=GOOGLETRANSLATE(\"zu gestecket\", \"de\", \"en\")\t12\nüberfallen\t=GOOGLETRANSLATE(\"zu überfallen\", \"de\", \"en\")\t12\neinlassen\t=GOOGLETRANSLATE(\"zu einlassen\", \"de\", \"en\")\t12\naufheben\t=GOOGLETRANSLATE(\"zu aufheben\", \"de\", \"en\")\t12\nerwarten\t=GOOGLETRANSLATE(\"zu erwarten\", \"de\", \"en\")\t12\nkönnen\t=GOOGLETRANSLATE(\"zu können\", \"de\", \"en\")\t12\nverfahren\t=GOOGLETRANSLATE(\"zu verfahren\", \"de\", \"en\")\t12\nbeklagen\t=GOOGLETRANSLATE(\"zu beklagen\", \"de\", \"en\")\t12\nzusehen\t=GOOGLETRANSLATE(\"zu zusehen\", \"de\", \"en\")\t12\nentsinnen\t=GOOGLETRANSLATE(\"zu entsinnen\", \"de\", \"en\")\t12\nschieben\t=GOOGLETRANSLATE(\"zu schieben\", \"de\", \"en\")\t12\ntanzen\t=GOOGLETRANSLATE(\"zu tanzen\", \"de\", \"en\")\t12\nentspringen\t=GOOGLETRANSLATE(\"zu entspringen\", \"de\", \"en\")\t13\ngefallen\t=GOOGLETRANSLATE(\"zu gefallen\", \"de\", \"en\")\t13\nbetteln\t=GOOGLETRANSLATE(\"zu betteln\", \"de\", \"en\")\t13\nschaffen\t=GOOGLETRANSLATE(\"zu schaffen\", \"de\", \"en\")\t13\nbrechen\t=GOOGLETRANSLATE(\"zu brechen\", \"de\", \"en\")\t13\nbrauchen\t=GOOGLETRANSLATE(\"zu brauchen\", \"de\", \"en\")\t13\nbitte\t=GOOGLETRANSLATE(\"zu bitte\", \"de\", \"en\")\t13\nverkleiden\t=GOOGLETRANSLATE(\"zu verkleiden\", \"de\", \"en\")\t13\ngeschicht\t=GOOGLETRANSLATE(\"zu geschicht\", \"de\", \"en\")\t13\nunterwerfen\t=GOOGLETRANSLATE(\"zu unterwerfen\", \"de\", \"en\")\t13\nstunden\t=GOOGLETRANSLATE(\"zu stunden\", \"de\", \"en\")\t13\nenthalten\t=GOOGLETRANSLATE(\"zu enthalten\", \"de\", \"en\")\t13\nzurichten\t=GOOGLETRANSLATE(\"zu zurichten\", \"de\", \"en\")\t13\nstechen\t=GOOGLETRANSLATE(\"zu stechen\", \"de\", \"en\")\t13\nfluchen\t=GOOGLETRANSLATE(\"zu fluchen\", \"de\", \"en\")\t13\nabnehmen\t=GOOGLETRANSLATE(\"zu abnehmen\", \"de\", \"en\")\t13\nschenken\t=GOOGLETRANSLATE(\"zu schenken\", \"de\", \"en\")\t13\nurteilen\t=GOOGLETRANSLATE(\"zu urteilen\", \"de\", \"en\")\t14\nanwenden\t=GOOGLETRANSLATE(\"zu anwenden\", \"de\", \"en\")\t14\ndenken\t=GOOGLETRANSLATE(\"zu denken\", \"de\", \"en\")\t14\nverkaufen\t=GOOGLETRANSLATE(\"zu verkaufen\", \"de\", \"en\")\t14\nverbinden\t=GOOGLETRANSLATE(\"zu verbinden\", \"de\", \"en\")\t14\nempfinden\t=GOOGLETRANSLATE(\"zu empfinden\", \"de\", \"en\")\t14\nschämen\t=GOOGLETRANSLATE(\"zu schämen\", \"de\", \"en\")\t14\ngewohnet\t=GOOGLETRANSLATE(\"zu gewohnet\", \"de\", \"en\")\t14\ngaben\t=GOOGLETRANSLATE(\"zu gaben\", \"de\", \"en\")\t14\nlässet\t=GOOGLETRANSLATE(\"zu lässet\", \"de\", \"en\")\t14\ngeschwind\t=GOOGLETRANSLATE(\"zu geschwind\", \"de\", \"en\")\t14\nists\t=GOOGLETRANSLATE(\"zu ists\", \"de\", \"en\")\t14\nauslegen\t=GOOGLETRANSLATE(\"zu auslegen\", \"de\", \"en\")\t15\nwarten\t=GOOGLETRANSLATE(\"zu warten\", \"de\", \"en\")\t15\nwelchergestalten\t=GOOGLETRANSLATE(\"zu welchergestalten\", \"de\", \"en\")\t15\nholen\t=GOOGLETRANSLATE(\"zu holen\", \"de\", \"en\")\t15\nschneiden\t=GOOGLETRANSLATE(\"zu schneiden\", \"de\", \"en\")\t15\nvergessen\t=GOOGLETRANSLATE(\"zu vergessen\", \"de\", \"en\")\t15\nsatzten\t=GOOGLETRANSLATE(\"zu satzten\", \"de\", \"en\")\t15\nschmeißen\t=GOOGLETRANSLATE(\"zu schmeißen\", \"de\", \"en\")\t15\nstudieren\t=GOOGLETRANSLATE(\"zu studieren\", \"de\", \"en\")\t15\npassieren\t=GOOGLETRANSLATE(\"zu passieren\", \"de\", \"en\")\t16\nbehalten\t=GOOGLETRANSLATE(\"zu behalten\", \"de\", \"en\")\t16\nritt\t=GOOGLETRANSLATE(\"zu ritt\", \"de\", \"en\")\t16\naufwarten\t=GOOGLETRANSLATE(\"zu aufwarten\", \"de\", \"en\")\t16\ngebeten\t=GOOGLETRANSLATE(\"zu gebeten\", \"de\", \"en\")\t17\nloben\t=GOOGLETRANSLATE(\"zu loben\", \"de\", \"en\")\t17\nverschließen\t=GOOGLETRANSLATE(\"zu verschließen\", \"de\", \"en\")\t17\nzerreißen\t=GOOGLETRANSLATE(\"zu zerreißen\", \"de\", \"en\")\t17\nkennen\t=GOOGLETRANSLATE(\"zu kennen\", \"de\", \"en\")\t17\nbetrügen\t=GOOGLETRANSLATE(\"zu betrügen\", \"de\", \"en\")\t17\nsage\t=GOOGLETRANSLATE(\"zu sage\", \"de\", \"en\")\t17\narbeiten\t=GOOGLETRANSLATE(\"zu arbeiten\", \"de\", \"en\")\t17\nstoßen\t=GOOGLETRANSLATE(\"zu stoßen\", \"de\", \"en\")\t17\nsooft\t=GOOGLETRANSLATE(\"zu sooft\", \"de\", \"en\")\t17\nankommen\t=GOOGLETRANSLATE(\"zu ankommen\", \"de\", \"en\")\t17\ndienen\t=GOOGLETRANSLATE(\"zu dienen\", \"de\", \"en\")\t18\ngelingen\t=GOOGLETRANSLATE(\"zu gelingen\", \"de\", \"en\")\t18\nbegehen\t=GOOGLETRANSLATE(\"zu begehen\", \"de\", \"en\")\t18\nverderben\t=GOOGLETRANSLATE(\"zu verderben\", \"de\", \"en\")\t18\ntreffen\t=GOOGLETRANSLATE(\"zu treffen\", \"de\", \"en\")\t18\noffenbaren\t=GOOGLETRANSLATE(\"zu offenbaren\", \"de\", \"en\")\t18\neinnehmen\t=GOOGLETRANSLATE(\"zu einnehmen\", \"de\", \"en\")\t18\nverschweigen\t=GOOGLETRANSLATE(\"zu verschweigen\", \"de\", \"en\")\t18\nausdermaßen\t=GOOGLETRANSLATE(\"zu ausdermaßen\", \"de\", \"en\")\t18\nbrennen\t=GOOGLETRANSLATE(\"zu brennen\", \"de\", \"en\")\t18\nschwören\t=GOOGLETRANSLATE(\"zu schwören\", \"de\", \"en\")\t18\nunerachtet\t=GOOGLETRANSLATE(\"zu unerachtet\", \"de\", \"en\")\t18\nsaufen\t=GOOGLETRANSLATE(\"zu saufen\", \"de\", \"en\")\t18\ndergleichen\t=GOOGLETRANSLATE(\"zu dergleichen\", \"de\", \"en\")\t18\nbeschreiben\t=GOOGLETRANSLATE(\"zu beschreiben\", \"de\", \"en\")\t19\nzwingen\t=GOOGLETRANSLATE(\"zu zwingen\", \"de\", \"en\")\t19\nversichern\t=GOOGLETRANSLATE(\"zu versichern\", \"de\", \"en\")\t19\numgehen\t=GOOGLETRANSLATE(\"zu umgehen\", \"de\", \"en\")\t19\nschießen\t=GOOGLETRANSLATE(\"zu schießen\", \"de\", \"en\")\t19\ngemachet\t=GOOGLETRANSLATE(\"zu gemachet\", \"de\", \"en\")\t19\nreiten\t=GOOGLETRANSLATE(\"zu reiten\", \"de\", \"en\")\t19\nstund\t=GOOGLETRANSLATE(\"zu stund\", \"de\", \"en\")\t19\nward\t=GOOGLETRANSLATE(\"zu ward\", \"de\", \"en\")\t19\nsollen\t=GOOGLETRANSLATE(\"zu sollen\", \"de\", \"en\")\t19\nbegegnen\t=GOOGLETRANSLATE(\"zu begegnen\", \"de\", \"en\")\t19\nprügeln\t=GOOGLETRANSLATE(\"zu prügeln\", \"de\", \"en\")\t19\nhernach\t=GOOGLETRANSLATE(\"zu hernach\", \"de\", \"en\")\t19\nverlieren\t=GOOGLETRANSLATE(\"zu verlieren\", \"de\", \"en\")\t20\ntaugen\t=GOOGLETRANSLATE(\"zu taugen\", \"de\", \"en\")\t20\nscheiden\t=GOOGLETRANSLATE(\"zu scheiden\", \"de\", \"en\")\t20\nverehren\t=GOOGLETRANSLATE(\"zu verehren\", \"de\", \"en\")\t20\ntrinken\t=GOOGLETRANSLATE(\"zu trinken\", \"de\", \"en\")\t20\nweinen\t=GOOGLETRANSLATE(\"zu weinen\", \"de\", \"en\")\t20\ngewinnen\t=GOOGLETRANSLATE(\"zu gewinnen\", \"de\", \"en\")\t20\nzutragen\t=GOOGLETRANSLATE(\"zu zutragen\", \"de\", \"en\")\t20\nwünschen\t=GOOGLETRANSLATE(\"zu wünschen\", \"de\", \"en\")\t20\njagen\t=GOOGLETRANSLATE(\"zu jagen\", \"de\", \"en\")\t20\nzumalen\t=GOOGLETRANSLATE(\"zu zumalen\", \"de\", \"en\")\t21\nderohalben\t=GOOGLETRANSLATE(\"zu derohalben\", \"de\", \"en\")\t21\nsteigen\t=GOOGLETRANSLATE(\"zu steigen\", \"de\", \"en\")\t21\nbetrachten\t=GOOGLETRANSLATE(\"zu betrachten\", \"de\", \"en\")\t21\nvermelden\t=GOOGLETRANSLATE(\"zu vermelden\", \"de\", \"en\")\t21\neinfinden\t=GOOGLETRANSLATE(\"zu einfinden\", \"de\", \"en\")\t21\nerhalten\t=GOOGLETRANSLATE(\"zu erhalten\", \"de\", \"en\")\t22\nbefinden\t=GOOGLETRANSLATE(\"zu befinden\", \"de\", \"en\")\t22\neilete\t=GOOGLETRANSLATE(\"zu eilete\", \"de\", \"en\")\t22\nrufte\t=GOOGLETRANSLATE(\"zu rufte\", \"de\", \"en\")\t22\nsatzte\t=GOOGLETRANSLATE(\"zu satzte\", \"de\", \"en\")\t22\nbefehlen\t=GOOGLETRANSLATE(\"zu befehlen\", \"de\", \"en\")\t22\ngetrieben\t=GOOGLETRANSLATE(\"zu getrieben\", \"de\", \"en\")\t22\nbezahlen\t=GOOGLETRANSLATE(\"zu bezahlen\", \"de\", \"en\")\t22\nkriegen\t=GOOGLETRANSLATE(\"zu kriegen\", \"de\", \"en\")\t22\nausgeben\t=GOOGLETRANSLATE(\"zu ausgeben\", \"de\", \"en\")\t23\nfressen\t=GOOGLETRANSLATE(\"zu fressen\", \"de\", \"en\")\t23\nerschrecken\t=GOOGLETRANSLATE(\"zu erschrecken\", \"de\", \"en\")\t23\nleiden\t=GOOGLETRANSLATE(\"zu leiden\", \"de\", \"en\")\t23\nverrichten\t=GOOGLETRANSLATE(\"zu verrichten\", \"de\", \"en\")\t23\nniemalen\t=GOOGLETRANSLATE(\"zu niemalen\", \"de\", \"en\")\t23\nnennen\t=GOOGLETRANSLATE(\"zu nennen\", \"de\", \"en\")\t23\nwohnen\t=GOOGLETRANSLATE(\"zu wohnen\", \"de\", \"en\")\t24\nrichten\t=GOOGLETRANSLATE(\"zu richten\", \"de\", \"en\")\t24\nsolchergestalten\t=GOOGLETRANSLATE(\"zu solchergestalten\", \"de\", \"en\")\t24\nverursachen\t=GOOGLETRANSLATE(\"zu verursachen\", \"de\", \"en\")\t24\nbegeben\t=GOOGLETRANSLATE(\"zu begeben\", \"de\", \"en\")\t24\noftermalen\t=GOOGLETRANSLATE(\"zu oftermalen\", \"de\", \"en\")\t24\nentwerfen\t=GOOGLETRANSLATE(\"zu entwerfen\", \"de\", \"en\")\t25\nweisen\t=GOOGLETRANSLATE(\"zu weisen\", \"de\", \"en\")\t25\nlieb\t=GOOGLETRANSLATE(\"zu lieb\", \"de\", \"en\")\t25\ngesetzet\t=GOOGLETRANSLATE(\"zu gesetzet\", \"de\", \"en\")\t25\nverlassen\t=GOOGLETRANSLATE(\"zu verlassen\", \"de\", \"en\")\t25\nwenden\t=GOOGLETRANSLATE(\"zu wenden\", \"de\", \"en\")\t25\nhierinnen\t=GOOGLETRANSLATE(\"zu hierinnen\", \"de\", \"en\")\t26\ntreiben\t=GOOGLETRANSLATE(\"zu treiben\", \"de\", \"en\")\t26\nmüssen\t=GOOGLETRANSLATE(\"zu müssen\", \"de\", \"en\")\t26\nsingen\t=GOOGLETRANSLATE(\"zu singen\", \"de\", \"en\")\t26\nschreien\t=GOOGLETRANSLATE(\"zu schreien\", \"de\", \"en\")\t26\nstehlen\t=GOOGLETRANSLATE(\"zu stehlen\", \"de\", \"en\")\t26\nheiraten\t=GOOGLETRANSLATE(\"zu heiraten\", \"de\", \"en\")\t26\nmeinen\t=GOOGLETRANSLATE(\"zu meinen\", \"de\", \"en\")\t27\ngenießen\t=GOOGLETRANSLATE(\"zu genießen\", \"de\", \"en\")\t27\ngestehen\t=GOOGLETRANSLATE(\"zu gestehen\", \"de\", \"en\")\t28\ngedacht\t=GOOGLETRANSLATE(\"zu gedacht\", \"de\", \"en\")\t28\nberichten\t=GOOGLETRANSLATE(\"zu berichten\", \"de\", \"en\")\t28\nzubringen\t=GOOGLETRANSLATE(\"zu zubringen\", \"de\", \"en\")\t28\ngenennet\t=GOOGLETRANSLATE(\"zu genennet\", \"de\", \"en\")\t28\ngelernet\t=GOOGLETRANSLATE(\"zu gelernet\", \"de\", \"en\")\t28\neinbilden\t=GOOGLETRANSLATE(\"zu einbilden\", \"de\", \"en\")\t28\nerscheinen\t=GOOGLETRANSLATE(\"zu erscheinen\", \"de\", \"en\")\t28\nansehen\t=GOOGLETRANSLATE(\"zu ansehen\", \"de\", \"en\")\t29\nbekennen\t=GOOGLETRANSLATE(\"zu bekennen\", \"de\", \"en\")\t29\ngelegen\t=GOOGLETRANSLATE(\"zu gelegen\", \"de\", \"en\")\t30\nlieben\t=GOOGLETRANSLATE(\"zu lieben\", \"de\", \"en\")\t30\nhab\t=GOOGLETRANSLATE(\"zu hab\", \"de\", \"en\")\t30\ndörfte\t=GOOGLETRANSLATE(\"zu dörfte\", \"de\", \"en\")\t30\nempfangen\t=GOOGLETRANSLATE(\"zu empfangen\", \"de\", \"en\")\t30\nerfahren\t=GOOGLETRANSLATE(\"zu erfahren\", \"de\", \"en\")\t30\nverlieben\t=GOOGLETRANSLATE(\"zu verlieben\", \"de\", \"en\")\t30\ngeraten\t=GOOGLETRANSLATE(\"zu geraten\", \"de\", \"en\")\t31\naufhalten\t=GOOGLETRANSLATE(\"zu aufhalten\", \"de\", \"en\")\t31\nwerfen\t=GOOGLETRANSLATE(\"zu werfen\", \"de\", \"en\")\t31\ndergestalten\t=GOOGLETRANSLATE(\"zu dergestalten\", \"de\", \"en\")\t31\nversprechen\t=GOOGLETRANSLATE(\"zu versprechen\", \"de\", \"en\")\t32\ngebrauchen\t=GOOGLETRANSLATE(\"zu gebrauchen\", \"de\", \"en\")\t32\nheiß\t=GOOGLETRANSLATE(\"zu heiß\", \"de\", \"en\")\t32\nreißen\t=GOOGLETRANSLATE(\"zu reißen\", \"de\", \"en\")\t32\nlernen\t=GOOGLETRANSLATE(\"zu lernen\", \"de\", \"en\")\t32\nessen\t=GOOGLETRANSLATE(\"zu essen\", \"de\", \"en\")\t33\nverbergen\t=GOOGLETRANSLATE(\"zu verbergen\", \"de\", \"en\")\t33\nspringen\t=GOOGLETRANSLATE(\"zu springen\", \"de\", \"en\")\t33\nmerken\t=GOOGLETRANSLATE(\"zu merken\", \"de\", \"en\")\t33\nstecken\t=GOOGLETRANSLATE(\"zu stecken\", \"de\", \"en\")\t33\nschicken\t=GOOGLETRANSLATE(\"zu schicken\", \"de\", \"en\")\t34\nerkennen\t=GOOGLETRANSLATE(\"zu erkennen\", \"de\", \"en\")\t34\ndaselbsten\t=GOOGLETRANSLATE(\"zu daselbsten\", \"de\", \"en\")\t35\nverlangen\t=GOOGLETRANSLATE(\"zu verlangen\", \"de\", \"en\")\t35\nführen\t=GOOGLETRANSLATE(\"zu führen\", \"de\", \"en\")\t35\nhalte\t=GOOGLETRANSLATE(\"zu halte\", \"de\", \"en\")\t35\nehedessen\t=GOOGLETRANSLATE(\"zu ehedessen\", \"de\", \"en\")\t35\nerweisen\t=GOOGLETRANSLATE(\"zu erweisen\", \"de\", \"en\")\t36\neröffnen\t=GOOGLETRANSLATE(\"zu eröffnen\", \"de\", \"en\")\t37\nbitten\t=GOOGLETRANSLATE(\"zu bitten\", \"de\", \"en\")\t37\nantreffen\t=GOOGLETRANSLATE(\"zu antreffen\", \"de\", \"en\")\t38\ngehören\t=GOOGLETRANSLATE(\"zu gehören\", \"de\", \"en\")\t38\nhängen\t=GOOGLETRANSLATE(\"zu hängen\", \"de\", \"en\")\t38\nleben\t=GOOGLETRANSLATE(\"zu leben\", \"de\", \"en\")\t39\nschlafen\t=GOOGLETRANSLATE(\"zu schlafen\", \"de\", \"en\")\t39\nsprechen\t=GOOGLETRANSLATE(\"zu sprechen\", \"de\", \"en\")\t39\nmachen\t=GOOGLETRANSLATE(\"zu machen\", \"de\", \"en\")\t40\nlesen\t=GOOGLETRANSLATE(\"zu lesen\", \"de\", \"en\")\t44\nsterben\t=GOOGLETRANSLATE(\"zu sterben\", \"de\", \"en\")\t46\ngedenken\t=GOOGLETRANSLATE(\"zu gedenken\", \"de\", \"en\")\t46\nsetzen\t=GOOGLETRANSLATE(\"zu setzen\", \"de\", \"en\")\t46\nschließen\t=GOOGLETRANSLATE(\"zu schließen\", \"de\", \"en\")\t48\nanfangen\t=GOOGLETRANSLATE(\"zu anfangen\", \"de\", \"en\")\t50\nsuchen\t=GOOGLETRANSLATE(\"zu suchen\", \"de\", \"en\")\t51\nfallen\t=GOOGLETRANSLATE(\"zu fallen\", \"de\", \"en\")\t51\nentschließen\t=GOOGLETRANSLATE(\"zu entschließen\", \"de\", \"en\")\t51\nstehen\t=GOOGLETRANSLATE(\"zu stehen\", \"de\", \"en\")\t54\nlaufen\t=GOOGLETRANSLATE(\"zu laufen\", \"de\", \"en\")\t54\nliegen\t=GOOGLETRANSLATE(\"zu liegen\", \"de\", \"en\")\t56\nsonsten\t=GOOGLETRANSLATE(\"zu sonsten\", \"de\", \"en\")\t56\ngeschehen\t=GOOGLETRANSLATE(\"zu geschehen\", \"de\", \"en\")\t56\ndarinnen\t=GOOGLETRANSLATE(\"zu darinnen\", \"de\", \"en\")\t57\nfahren\t=GOOGLETRANSLATE(\"zu fahren\", \"de\", \"en\")\t57\nlegen\t=GOOGLETRANSLATE(\"zu legen\", \"de\", \"en\")\t59\nverstehen\t=GOOGLETRANSLATE(\"zu verstehen\", \"de\", \"en\")\t59\nsitzen\t=GOOGLETRANSLATE(\"zu sitzen\", \"de\", \"en\")\t60\nziehen\t=GOOGLETRANSLATE(\"zu ziehen\", \"de\", \"en\")\t60\npflegen\t=GOOGLETRANSLATE(\"zu pflegen\", \"de\", \"en\")\t61\nhelfen\t=GOOGLETRANSLATE(\"zu helfen\", \"de\", \"en\")\t61\nschlagen\t=GOOGLETRANSLATE(\"zu schlagen\", \"de\", \"en\")\t61\nschreiben\t=GOOGLETRANSLATE(\"zu schreiben\", \"de\", \"en\")\t62\nantworten\t=GOOGLETRANSLATE(\"zu antworten\", \"de\", \"en\")\t62\nverwundern\t=GOOGLETRANSLATE(\"zu verwundern\", \"de\", \"en\")\t67\nbleiben\t=GOOGLETRANSLATE(\"zu bleiben\", \"de\", \"en\")\t75\nlachen\t=GOOGLETRANSLATE(\"zu lachen\", \"de\", \"en\")\t76\nselbsten\t=GOOGLETRANSLATE(\"zu selbsten\", \"de\", \"en\")\t77\ntragen\t=GOOGLETRANSLATE(\"zu tragen\", \"de\", \"en\")\t77\nfangen\t=GOOGLETRANSLATE(\"zu fangen\", \"de\", \"en\")\t81\nreden\t=GOOGLETRANSLATE(\"zu reden\", \"de\", \"en\")\t89\nhören\t=GOOGLETRANSLATE(\"zu hören\", \"de\", \"en\")\t90\nfragen\t=GOOGLETRANSLATE(\"zu fragen\", \"de\", \"en\")\t91\nfinden\t=GOOGLETRANSLATE(\"zu finden\", \"de\", \"en\")\t92\nnehmen\t=GOOGLETRANSLATE(\"zu nehmen\", \"de\", \"en\")\t94\nerzählen\t=GOOGLETRANSLATE(\"zu erzählen\", \"de\", \"en\")\t95\ntun\t=GOOGLETRANSLATE(\"zu tun\", \"de\", \"en\")\t96\nallwo\t=GOOGLETRANSLATE(\"zu allwo\", \"de\", \"en\")\t97\nbekommen\t=GOOGLETRANSLATE(\"zu bekommen\", \"de\", \"en\")\t99\nweiß\t=GOOGLETRANSLATE(\"zu weiß\", \"de\", \"en\")\t100\ngehen\t=GOOGLETRANSLATE(\"zu gehen\", \"de\", \"en\")\t103\nglauben\t=GOOGLETRANSLATE(\"zu glauben\", \"de\", \"en\")\t108\nheißen\t=GOOGLETRANSLATE(\"zu heißen\", \"de\", \"en\")\t112\ngeben\t=GOOGLETRANSLATE(\"zu geben\", \"de\", \"en\")\t120\nsagen\t=GOOGLETRANSLATE(\"zu sagen\", \"de\", \"en\")\t121\nkommen\t=GOOGLETRANSLATE(\"zu kommen\", \"de\", \"en\")\t134\nbringen\t=GOOGLETRANSLATE(\"zu bringen\", \"de\", \"en\")\t142\nhalten\t=GOOGLETRANSLATE(\"zu halten\", \"de\", \"en\")\t171\nsehen\t=GOOGLETRANSLATE(\"zu sehen\", \"de\", \"en\")\t210\nwissen\t=GOOGLETRANSLATE(\"zu wissen\", \"de\", \"en\")\t239\nlassen\t=GOOGLETRANSLATE(\"zu lassen\", \"de\", \"en\")\t330\n"
     ]
    }
   ],
   "source": [
    "test = '\\n'.join([w.to_sheet() for w in sorted(words, key=lambda w: w.freq)])\n",
    "with open('done.txt', 'w') as f:\n",
    "    f.write(test)\n",
    "print(test)"
   ]
  },
  {
   "source": [
    "### Spreadsheet corrections.\n",
    "\n",
    "The resultant spreadsheet can have issues in it, so it's important to flag likely issues for manual overview."
   ],
   "cell_type": "markdown",
   "metadata": {}
  },
  {
   "cell_type": "code",
   "execution_count": 3,
   "metadata": {},
   "outputs": [],
   "source": [
    "with open('test.txt', 'r') as f:\n",
    "    translations = [Translation.from_sheet(line) for line in f.read().splitlines()]\n",
    "    by_warnings = partition_warnings(translations)"
   ]
  },
  {
   "cell_type": "code",
   "execution_count": 6,
   "metadata": {},
   "outputs": [
    {
     "output_type": "stream",
     "name": "stdout",
     "text": [
      "[]\n"
     ]
    }
   ],
   "source": [
    "print([f'{t.source}: {t.dest}' for t in by_warnings[WarningLevel.NONSENSE]])"
   ]
  },
  {
   "cell_type": "code",
   "execution_count": 59,
   "metadata": {},
   "outputs": [
    {
     "output_type": "execute_result",
     "data": {
      "text/plain": [
       "['de_LU', 'en_GB', 'de_DE', 'de_BE', 'en_US', 'en_CA', 'en_AU', 'en']"
      ]
     },
     "metadata": {},
     "execution_count": 59
    }
   ],
   "source": [
    "from english_words import english_words_lower_set\n",
    "import enchant\n",
    "d = enchant.Dict('en')\n",
    "enchant.list_languages()"
   ]
  },
  {
   "cell_type": "code",
   "execution_count": 63,
   "metadata": {},
   "outputs": [
    {
     "output_type": "execute_result",
     "data": {
      "text/plain": [
       "True"
      ]
     },
     "metadata": {},
     "execution_count": 63
    }
   ],
   "source": [
    "# '' in english_words_lower_set\n",
    "d.check('Cat')\n",
    "# d.suggest('yeet')\n"
   ]
  }
 ]
}