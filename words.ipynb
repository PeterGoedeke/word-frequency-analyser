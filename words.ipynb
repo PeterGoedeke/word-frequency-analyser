{
 "metadata": {
  "language_info": {
   "codemirror_mode": {
    "name": "ipython",
    "version": 3
   },
   "file_extension": ".py",
   "mimetype": "text/x-python",
   "name": "python",
   "nbconvert_exporter": "python",
   "pygments_lexer": "ipython3",
   "version": "3.8.5"
  },
  "orig_nbformat": 2,
  "kernelspec": {
   "name": "python3",
   "display_name": "Python 3",
   "language": "python"
  }
 },
 "nbformat": 4,
 "nbformat_minor": 2,
 "cells": [
  {
   "cell_type": "code",
   "execution_count": 15,
   "metadata": {},
   "outputs": [
    {
     "output_type": "error",
     "ename": "ImportError",
     "evalue": "cannot import name 'Language' from 'functions' (/home/peter/Documents/github/word-frequency-analyser/functions.py)",
     "traceback": [
      "\u001b[0;31m---------------------------------------------------------------------------\u001b[0m",
      "\u001b[0;31mImportError\u001b[0m                               Traceback (most recent call last)",
      "\u001b[0;32m<ipython-input-15-c3f1314c4ee1>\u001b[0m in \u001b[0;36m<module>\u001b[0;34m\u001b[0m\n\u001b[0;32m----> 1\u001b[0;31m \u001b[0;32mfrom\u001b[0m \u001b[0mfunctions\u001b[0m \u001b[0;32mimport\u001b[0m \u001b[0mLanguage\u001b[0m\u001b[0;34m\u001b[0m\u001b[0;34m\u001b[0m\u001b[0m\n\u001b[0m\u001b[1;32m      2\u001b[0m \u001b[0mde\u001b[0m \u001b[0;34m=\u001b[0m \u001b[0mGermanLanguage\u001b[0m\u001b[0;34m(\u001b[0m\u001b[0;34m)\u001b[0m\u001b[0;34m\u001b[0m\u001b[0;34m\u001b[0m\u001b[0m\n",
      "\u001b[0;31mImportError\u001b[0m: cannot import name 'Language' from 'functions' (/home/peter/Documents/github/word-frequency-analyser/functions.py)"
     ]
    }
   ],
   "source": [
    "from functions import GermanLanguage\n",
    "de = GermanLanguage()"
   ]
  },
  {
   "cell_type": "code",
   "execution_count": 8,
   "metadata": {},
   "outputs": [],
   "source": [
    "import spacy\n",
    "nlp = spacy.load('de_core_news_sm')"
   ]
  },
  {
   "cell_type": "code",
   "execution_count": 11,
   "metadata": {},
   "outputs": [],
   "source": [
    "import epub\n",
    "from epub import epub2text\n",
    "from collections import Counter"
   ]
  },
  {
   "cell_type": "code",
   "execution_count": 12,
   "metadata": {},
   "outputs": [],
   "source": [
    "resource_dir = '/home/peter/Music/6000.German.e-book.Collection.epub'\n",
    "books = os.listdir(resource_dir)[5:6]\n",
    "\n",
    "resources = [] # type: List[str]\n",
    "for i, book in enumerate(books):\n",
    "    try:\n",
    "        resource_fragments = epub.epub2text(f'{resource_dir}/{book}')\n",
    "        resource = '\\n'.join(resource_fragments)\n",
    "        resources.append(resource)\n",
    "    except KeyError:\n",
    "        pass\n",
    "doc = nlp('\\n'.join(resources))"
   ]
  },
  {
   "cell_type": "code",
   "execution_count": 13,
   "metadata": {},
   "outputs": [],
   "source": [
    "def simplify_pos(pos: str) -> str:\n",
    "    return pos if pos == 'NOUN' or pos == 'VERB' else 'OTHER'\n",
    "\n",
    "def word_to_sheet(word: str, pos: str, freq: int) -> str:\n",
    "    if pos == 'NOUN':\n",
    "        \n",
    "    return f''"
   ]
  },
  {
   "cell_type": "code",
   "execution_count": 14,
   "metadata": {},
   "outputs": [],
   "source": [
    "counts = Counter(\n",
    "    (token.lemma_, simplify_pos(token.pos_))\n",
    "        for token in de\n",
    "            if token.is_alpha and not token.is_stop and token.pos_ == 'NOUN'\n",
    ")\n",
    "words = [\n",
    "    Word(de, c[0], c[1], freq)\n",
    "        for c, freq in counts\n",
    "            if de.is_valid_word(c[0], c[1])\n",
    "]"
   ]
  },
  {
   "cell_type": "code",
   "execution_count": null,
   "metadata": {},
   "outputs": [],
   "source": [
    "test = '\\n'.join([w.to_sheet() for w in words])\n",
    "print(test)"
   ]
  }
 ]
}